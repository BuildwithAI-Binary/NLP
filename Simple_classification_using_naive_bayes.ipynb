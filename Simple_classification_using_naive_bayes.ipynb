{
 "cells": [
  {
   "cell_type": "code",
   "execution_count": 1,
   "metadata": {},
   "outputs": [],
   "source": [
    "data = 'final_data.csv'"
   ]
  },
  {
   "cell_type": "code",
   "execution_count": 2,
   "metadata": {},
   "outputs": [],
   "source": [
    "import pandas as pd\n",
    "import warnings\n",
    "warnings.filterwarnings(\"ignore\")\n",
    "import numpy as np \n",
    "import matplotlib.pyplot as plt\n",
    "import seaborn as sns\n",
    "import gensim\n",
    "import operator\n",
    "import string\n",
    "import random\n",
    "from sklearn.preprocessing import LabelEncoder\n",
    "from sklearn.metrics import classification_report\n",
    "from sklearn.linear_model import LogisticRegression\n",
    "#Import necessary libraries\n",
    "import nltk\n",
    "from nltk.corpus import stopwords\n",
    "from  nltk.stem import SnowballStemmer\n",
    "import re\n",
    "# Scikit-learn\n",
    "from sklearn.model_selection import train_test_split\n",
    "from sklearn.metrics import confusion_matrix, classification_report, accuracy_score\n",
    "from sklearn.manifold import TSNE\n",
    "from sklearn.feature_extraction.text import TfidfVectorizer\n",
    "\n",
    "# Utility\n",
    "import os\n",
    "from collections import Counter"
   ]
  },
  {
   "cell_type": "code",
   "execution_count": 3,
   "metadata": {},
   "outputs": [],
   "source": [
    "df = pd.read_csv(data)"
   ]
  },
  {
   "cell_type": "code",
   "execution_count": 4,
   "metadata": {},
   "outputs": [
    {
     "data": {
      "text/plain": [
       "Unnamed: 0           0\n",
       "Text                82\n",
       "Mental_condition     0\n",
       "dtype: int64"
      ]
     },
     "execution_count": 4,
     "metadata": {},
     "output_type": "execute_result"
    }
   ],
   "source": [
    "df.isnull().sum()"
   ]
  },
  {
   "cell_type": "code",
   "execution_count": 5,
   "metadata": {},
   "outputs": [],
   "source": [
    "#drop null values\n",
    "df.dropna(inplace=True)"
   ]
  },
  {
   "cell_type": "code",
   "execution_count": 6,
   "metadata": {},
   "outputs": [],
   "source": [
    "df.rename(columns={'Text':'text','Mental_condition':'label'},inplace=True)\n",
    "df['length'] = df['text'].apply(len)"
   ]
  },
  {
   "cell_type": "code",
   "execution_count": 7,
   "metadata": {},
   "outputs": [
    {
     "data": {
      "text/html": [
       "<div>\n",
       "<style scoped>\n",
       "    .dataframe tbody tr th:only-of-type {\n",
       "        vertical-align: middle;\n",
       "    }\n",
       "\n",
       "    .dataframe tbody tr th {\n",
       "        vertical-align: top;\n",
       "    }\n",
       "\n",
       "    .dataframe thead th {\n",
       "        text-align: right;\n",
       "    }\n",
       "</style>\n",
       "<table border=\"1\" class=\"dataframe\">\n",
       "  <thead>\n",
       "    <tr style=\"text-align: right;\">\n",
       "      <th></th>\n",
       "      <th>Unnamed: 0</th>\n",
       "      <th>text</th>\n",
       "      <th>label</th>\n",
       "      <th>length</th>\n",
       "    </tr>\n",
       "  </thead>\n",
       "  <tbody>\n",
       "    <tr>\n",
       "      <th>0</th>\n",
       "      <td>1086997</td>\n",
       "      <td>but then again</td>\n",
       "      <td>0</td>\n",
       "      <td>16</td>\n",
       "    </tr>\n",
       "    <tr>\n",
       "      <th>1</th>\n",
       "      <td>859435</td>\n",
       "      <td>Last full weekend in VA, heading back to TX ne...</td>\n",
       "      <td>0</td>\n",
       "      <td>58</td>\n",
       "    </tr>\n",
       "    <tr>\n",
       "      <th>2</th>\n",
       "      <td>1485762</td>\n",
       "      <td>away for a showrawrrrrr</td>\n",
       "      <td>0</td>\n",
       "      <td>24</td>\n",
       "    </tr>\n",
       "    <tr>\n",
       "      <th>3</th>\n",
       "      <td>1283538</td>\n",
       "      <td>@mamaspohr that story is adorable</td>\n",
       "      <td>0</td>\n",
       "      <td>34</td>\n",
       "    </tr>\n",
       "    <tr>\n",
       "      <th>4</th>\n",
       "      <td>1083484</td>\n",
       "      <td>@SpizzFlizz I'm 1day late or 2 thank you baby ...</td>\n",
       "      <td>0</td>\n",
       "      <td>67</td>\n",
       "    </tr>\n",
       "  </tbody>\n",
       "</table>\n",
       "</div>"
      ],
      "text/plain": [
       "   Unnamed: 0                                               text  label  \\\n",
       "0     1086997                                    but then again       0   \n",
       "1      859435  Last full weekend in VA, heading back to TX ne...      0   \n",
       "2     1485762                           away for a showrawrrrrr       0   \n",
       "3     1283538                 @mamaspohr that story is adorable       0   \n",
       "4     1083484  @SpizzFlizz I'm 1day late or 2 thank you baby ...      0   \n",
       "\n",
       "   length  \n",
       "0      16  \n",
       "1      58  \n",
       "2      24  \n",
       "3      34  \n",
       "4      67  "
      ]
     },
     "execution_count": 7,
     "metadata": {},
     "output_type": "execute_result"
    }
   ],
   "source": [
    "df.head()"
   ]
  },
  {
   "cell_type": "code",
   "execution_count": 8,
   "metadata": {},
   "outputs": [
    {
     "data": {
      "text/plain": [
       "<matplotlib.axes._subplots.AxesSubplot at 0x2763fb44e08>"
      ]
     },
     "execution_count": 8,
     "metadata": {},
     "output_type": "execute_result"
    },
    {
     "data": {
      "image/png": "[encoded data removed]",
      "text/plain": [
       "<Figure size 432x288 with 1 Axes>"
      ]
     },
     "metadata": {
      "needs_background": "light"
     },
     "output_type": "display_data"
    }
   ],
   "source": [
    "df.label.value_counts().plot(kind='bar')"
   ]
  },
  {
   "cell_type": "code",
   "execution_count": 9,
   "metadata": {},
   "outputs": [],
   "source": [
    "'''\n",
    "different preprocess functions\n",
    "'''\n",
    "def preprocess(Text):\n",
    "    Text = Text.str.replace(\"(<br/>)\", \"\")\n",
    "    Text = Text.str.replace('(<a).*(>).*(</a>)', '')\n",
    "    Text = Text.str.replace('(&amp)', '')\n",
    "    Text = Text.str.replace('(&gt)', '')\n",
    "    Text = Text.str.replace('(&lt)', '')\n",
    "    Text = Text.str.replace('(\\xa0…)', ' ')  \n",
    "    Text = Text.str.replace('(\\n)', ' ')\n",
    "    Text = Text.str.replace('+', '')\n",
    "    return Text\n",
    "\n",
    "# remove urls from text\n",
    "def remove_urls(row):\n",
    "    url_pattern = re.compile(r\"https?://\\S+|www\\.\\S+\")\n",
    "    row =  url_pattern.sub(r'', row)\n",
    "    return row\n",
    "\n",
    "# remove @accounts (@[A-Za-z0–9]+)|, emojis，#hashtags, com frin text\n",
    "def removes(row):\n",
    "    url_pattern = re.compile(r\"(\\w+:\\/\\/\\S+)|(#(\\w+))|(.twitter.com/[A-Za-z0–9]+)\")\n",
    "    row =  url_pattern.sub(r'', row)\n",
    "    return row\n",
    "\n",
    "def removes(row):\n",
    "    url_pattern = re.compile(r\"(\\w+:\\/\\/\\S+)|(#(\\w+))|(.twitter.com/[A-Za-z0–9]+)\")\n",
    "    row =  url_pattern.sub(r'', row)\n",
    "    return row\n",
    "def decontracted(phrase):\n",
    "    phrase = re.sub(r\"that\\'s\", \"that is\", phrase)   \n",
    "    phrase = re.sub(r\"n\\'t\", \" not\", phrase)\n",
    "    phrase = re.sub(r\"\\'ve\", \" have\", phrase)\n",
    "    phrase = re.sub(r\"\\'re\", \" are\", phrase)\n",
    "    phrase = re.sub(r\"\\'d\", \" would\", phrase)\n",
    "    phrase = re.sub(r\"\\'ll\", \" will\", phrase)\n",
    "    phrase = re.sub(r\"\\'m\", \" am\", phrase)\n",
    "    return phrase"
   ]
  },
  {
   "cell_type": "code",
   "execution_count": 10,
   "metadata": {},
   "outputs": [],
   "source": [
    "#apply those functions\n",
    "df['text'] = preprocess(df.text)\n",
    "df['text'] = df['text'].apply(remove_urls)\n",
    "df['text'] = df['text'].apply(removes)\n",
    "df.text = df.text.apply(lambda x: decontracted(x).lower())\n"
   ]
  },
  {
   "cell_type": "code",
   "execution_count": 11,
   "metadata": {},
   "outputs": [],
   "source": [
    "stop_words = stopwords.words('english')\n",
    "not_stopwords = {}\n",
    "common_words =['com','twitter','please',\n",
    "               'the','would','could','can','may','must', \n",
    "              # 'us','i','you','this','we','me','that','it',\n",
    "               'de','s','pic','t','m','en','la','que','don','re','e','el','ca']\n",
    "stop_words.extend(word for word in common_words if word not in stop_words)\n",
    "final_stop_words = set([word for word in stop_words if word not in not_stopwords])\n",
    "df.text = df.text.apply(lambda x: ' '.join([word for word in x.split() if word not in final_stop_words]))\n",
    "rm_punc = re.compile(r\"(\\W)\")\n",
    "rm_space = re.compile(r\"(\\s+)\")\n",
    "df.text = df.text.apply(lambda x: rm_punc.sub(' ', x))\n",
    "df.text = df.text.apply(lambda x: rm_space.sub(' ', x))"
   ]
  },
  {
   "cell_type": "code",
   "execution_count": 13,
   "metadata": {},
   "outputs": [],
   "source": [
    "from sklearn.feature_extraction.text import CountVectorizer as CV\n",
    "from sklearn.feature_extraction.text import TfidfTransformer as TF\n",
    "from sklearn.model_selection import train_test_split as tts\n",
    "from sklearn.naive_bayes import MultinomialNB as MB\n",
    "from sklearn.pipeline import Pipeline\n",
    "import string"
   ]
  },
  {
   "cell_type": "code",
   "execution_count": 14,
   "metadata": {},
   "outputs": [],
   "source": [
    "X_train, X_test, y_train, y_test = tts(df.text, df.label, random_state = 42, test_size = 0.15)"
   ]
  },
  {
   "cell_type": "code",
   "execution_count": 15,
   "metadata": {},
   "outputs": [],
   "source": [
    "nb = Pipeline([('vect', CV()),\n",
    "               ('clf', MB()),\n",
    "              ])"
   ]
  },
  {
   "cell_type": "code",
   "execution_count": 16,
   "metadata": {},
   "outputs": [
    {
     "data": {
      "text/plain": [
       "Pipeline(memory=None,\n",
       "         steps=[('vect',\n",
       "                 CountVectorizer(analyzer='word', binary=False,\n",
       "                                 decode_error='strict',\n",
       "                                 dtype=<class 'numpy.int64'>, encoding='utf-8',\n",
       "                                 input='content', lowercase=True, max_df=1.0,\n",
       "                                 max_features=None, min_df=1,\n",
       "                                 ngram_range=(1, 1), preprocessor=None,\n",
       "                                 stop_words=None, strip_accents=None,\n",
       "                                 token_pattern='(?u)\\\\b\\\\w\\\\w+\\\\b',\n",
       "                                 tokenizer=None, vocabulary=None)),\n",
       "                ('clf',\n",
       "                 MultinomialNB(alpha=1.0, class_prior=None, fit_prior=True))],\n",
       "         verbose=False)"
      ]
     },
     "execution_count": 16,
     "metadata": {},
     "output_type": "execute_result"
    }
   ],
   "source": [
    "nb.fit(X_train,y_train)"
   ]
  },
  {
   "cell_type": "code",
   "execution_count": 17,
   "metadata": {},
   "outputs": [],
   "source": [
    "labels = ['pos','dep','sucide']"
   ]
  },
  {
   "cell_type": "code",
   "execution_count": 18,
   "metadata": {},
   "outputs": [
    {
     "name": "stdout",
     "output_type": "stream",
     "text": [
      "accuracy 0.9014050964515361\n",
      "              precision    recall  f1-score   support\n",
      "\n",
      "         pos       0.98      0.79      0.87      2362\n",
      "         dep       0.84      0.97      0.90      3425\n",
      "      sucide       0.94      0.91      0.92      2611\n",
      "\n",
      "    accuracy                           0.90      8398\n",
      "   macro avg       0.92      0.89      0.90      8398\n",
      "weighted avg       0.91      0.90      0.90      8398\n",
      "\n"
     ]
    }
   ],
   "source": [
    "from sklearn.metrics import classification_report\n",
    "from sklearn.metrics import accuracy_score, confusion_matrix\n",
    "y_pred = nb.predict(X_test)\n",
    "print('accuracy %s' % accuracy_score(y_pred, y_test))\n",
    "print(classification_report(y_test, y_pred,target_names=labels))"
   ]
  },
  {
   "cell_type": "code",
   "execution_count": 20,
   "metadata": {},
   "outputs": [
    {
     "name": "stdout",
     "output_type": "stream",
     "text": [
      "[LibLinear]accuracy 0.9611812336270541\n",
      "              precision    recall  f1-score   support\n",
      "\n",
      "         pos       0.94      0.99      0.96      2362\n",
      "         dep       0.97      0.96      0.96      3425\n",
      "      sucide       0.97      0.94      0.95      2611\n",
      "\n",
      "    accuracy                           0.96      8398\n",
      "   macro avg       0.96      0.96      0.96      8398\n",
      "weighted avg       0.96      0.96      0.96      8398\n",
      "\n"
     ]
    }
   ],
   "source": [
    "\n",
    "from sklearn.linear_model import LogisticRegression\n",
    "\n",
    "logreg = Pipeline([('vect', CV(ngram_range=[0,2])),\n",
    "                ('clf', LogisticRegression(verbose=1, solver='liblinear',random_state=0, C=5, penalty='l2',max_iter=1000)),\n",
    "               ])\n",
    "logreg.fit(X_train, y_train)\n",
    "\n",
    "\n",
    "\n",
    "y_pred = logreg.predict(X_test)\n",
    "\n",
    "print('accuracy %s' % accuracy_score(y_pred, y_test))\n",
    "print(classification_report(y_test, y_pred,target_names=labels))\n",
    "\n",
    "def get_top_k_predictions(model,X_test,k):\n",
    "    probs = model.predict_proba(X_test)\n",
    "    best_n = np.argsort(probs, axis=1)[:,-k:]\n",
    "    preds=[[model.classes_[predicted_cat] for predicted_cat in prediction] for prediction in best_n]\n",
    "    preds=[ item[::-1] for item in preds]\n",
    "    return preds"
   ]
  },
  {
   "cell_type": "code",
   "execution_count": null,
   "metadata": {},
   "outputs": [],
   "source": []
  }
 ],
 "metadata": {
  "kernelspec": {
   "display_name": "Python 3",
   "language": "python",
   "name": "python3"
  },
  "language_info": {
   "codemirror_mode": {
    "name": "ipython",
    "version": 3
   },
   "file_extension": ".py",
   "mimetype": "text/x-python",
   "name": "python",
   "nbconvert_exporter": "python",
   "pygments_lexer": "ipython3",
   "version": "3.7.6"
  }
 },
 "nbformat": 4,
 "nbformat_minor": 4
}
