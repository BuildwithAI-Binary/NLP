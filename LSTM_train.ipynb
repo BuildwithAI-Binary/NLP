{
  "nbformat": 4,
  "nbformat_minor": 0,
  "metadata": {
    "colab": {
      "name": "LSTM_train.ipynb",
      "provenance": [],
      "collapsed_sections": [],
      "toc_visible": true,
      "authorship_tag": "ABX9TyP6d6uw6o5uwFPLA86/lB40",
      "include_colab_link": true
    },
    "kernelspec": {
      "name": "python3",
      "display_name": "Python 3"
    }
  },
  "cells": [
    {
      "cell_type": "markdown",
      "metadata": {
        "id": "view-in-github",
        "colab_type": "text"
      },
      "source": [
        "<a href=\"https://colab.research.google.com/github/aradhanacha/NLP/blob/master/LSTM_train.ipynb\" target=\"_parent\"><img src=\"https://colab.research.google.com/assets/colab-badge.svg\" alt=\"Open In Colab\"/></a>"
      ]
    },
    {
      "cell_type": "code",
      "metadata": {
        "id": "kB5rQOa5SiaK",
        "colab_type": "code",
        "colab": {
          "base_uri": "https://localhost:8080/",
          "height": 34
        },
        "outputId": "e6590901-d9c1-446d-b428-bb5c021fa29a"
      },
      "source": [
        "#Import necessary libraries\n",
        "import pandas as pd\n",
        "import matplotlib.pyplot as plt\n",
        "import time\n",
        "# nltk\n",
        "import nltk\n",
        "from nltk.corpus import stopwords\n",
        "from  nltk.stem import SnowballStemmer\n",
        "import re\n",
        "# Scikit-learn\n",
        "from sklearn.model_selection import train_test_split\n",
        "from sklearn.preprocessing import LabelEncoder\n",
        "from sklearn.metrics import confusion_matrix, classification_report, accuracy_score\n",
        "from sklearn.manifold import TSNE\n",
        "from sklearn.feature_extraction.text import TfidfVectorizer\n",
        "# Keras\n",
        "from keras.preprocessing.text import Tokenizer\n",
        "from keras.preprocessing.sequence import pad_sequences\n",
        "from keras.models import Sequential\n",
        "from keras.layers import Activation, Dense, Dropout, Embedding, Flatten, Conv1D, MaxPooling1D, LSTM\n",
        "from keras import utils\n",
        "from keras.callbacks import ReduceLROnPlateau, EarlyStopping\n",
        "from keras.layers import Dense, Embedding, LSTM, SpatialDropout1D\n",
        "\n",
        "# nltk\n",
        "import nltk\n",
        "from nltk.corpus import stopwords\n",
        "from  nltk.stem import SnowballStemmer\n",
        "\n",
        "# Word2vec\n",
        "import gensim\n",
        "\n",
        "# Utility\n",
        "import re\n",
        "import numpy as np\n",
        "import os\n",
        "from collections import Counter"
      ],
      "execution_count": 26,
      "outputs": [
        {
          "output_type": "stream",
          "text": [
            "Using TensorFlow backend.\n"
          ],
          "name": "stderr"
        }
      ]
    },
    {
      "cell_type": "code",
      "metadata": {
        "id": "4pEGLN--TKwv",
        "colab_type": "code",
        "colab": {
          "base_uri": "https://localhost:8080/",
          "height": 204
        },
        "outputId": "3f9e1282-e623-4ff8-e868-3dbfcc8ba83d"
      },
      "source": [
        "data=pd.read_csv(\"/content/final_data.csv\")\n",
        "data.head()"
      ],
      "execution_count": 29,
      "outputs": [
        {
          "output_type": "execute_result",
          "data": {
            "text/html": [
              "<div>\n",
              "<style scoped>\n",
              "    .dataframe tbody tr th:only-of-type {\n",
              "        vertical-align: middle;\n",
              "    }\n",
              "\n",
              "    .dataframe tbody tr th {\n",
              "        vertical-align: top;\n",
              "    }\n",
              "\n",
              "    .dataframe thead th {\n",
              "        text-align: right;\n",
              "    }\n",
              "</style>\n",
              "<table border=\"1\" class=\"dataframe\">\n",
              "  <thead>\n",
              "    <tr style=\"text-align: right;\">\n",
              "      <th></th>\n",
              "      <th>Unnamed: 0</th>\n",
              "      <th>Text</th>\n",
              "      <th>Mental_condition</th>\n",
              "    </tr>\n",
              "  </thead>\n",
              "  <tbody>\n",
              "    <tr>\n",
              "      <th>0</th>\n",
              "      <td>1086997</td>\n",
              "      <td>but then again</td>\n",
              "      <td>0</td>\n",
              "    </tr>\n",
              "    <tr>\n",
              "      <th>1</th>\n",
              "      <td>859435</td>\n",
              "      <td>Last full weekend in VA, heading back to TX ne...</td>\n",
              "      <td>0</td>\n",
              "    </tr>\n",
              "    <tr>\n",
              "      <th>2</th>\n",
              "      <td>1485762</td>\n",
              "      <td>away for a showrawrrrrr</td>\n",
              "      <td>0</td>\n",
              "    </tr>\n",
              "    <tr>\n",
              "      <th>3</th>\n",
              "      <td>1283538</td>\n",
              "      <td>@mamaspohr that story is adorable</td>\n",
              "      <td>0</td>\n",
              "    </tr>\n",
              "    <tr>\n",
              "      <th>4</th>\n",
              "      <td>1083484</td>\n",
              "      <td>@SpizzFlizz I'm 1day late or 2 thank you baby ...</td>\n",
              "      <td>0</td>\n",
              "    </tr>\n",
              "  </tbody>\n",
              "</table>\n",
              "</div>"
            ],
            "text/plain": [
              "   Unnamed: 0  ... Mental_condition\n",
              "0     1086997  ...                0\n",
              "1      859435  ...                0\n",
              "2     1485762  ...                0\n",
              "3     1283538  ...                0\n",
              "4     1083484  ...                0\n",
              "\n",
              "[5 rows x 3 columns]"
            ]
          },
          "metadata": {
            "tags": []
          },
          "execution_count": 29
        }
      ]
    },
    {
      "cell_type": "markdown",
      "metadata": {
        "id": "-RmsV-96RG_R",
        "colab_type": "text"
      },
      "source": [
        "# Labels\n",
        "Mental_condition = 0   Not suicidal risk(no risk)\n",
        "Mental_condition =1    depression\n",
        "Mental_condition =2    suicide\n"
      ]
    },
    {
      "cell_type": "code",
      "metadata": {
        "id": "ar9jB1IliTFm",
        "colab_type": "code",
        "colab": {}
      },
      "source": [
        "#Define model paramater\n",
        "TRAIN_SIZE=0.8\n",
        "SEQUENCE_LENGTH=300\n",
        "W2V_SIZE=300"
      ],
      "execution_count": 27,
      "outputs": []
    },
    {
      "cell_type": "code",
      "metadata": {
        "id": "vTwjl91OTTLV",
        "colab_type": "code",
        "colab": {
          "base_uri": "https://localhost:8080/",
          "height": 187
        },
        "outputId": "ff85562f-7cd6-40ad-ba91-ee1cf7c4960e"
      },
      "source": [
        "data.info()"
      ],
      "execution_count": 30,
      "outputs": [
        {
          "output_type": "stream",
          "text": [
            "<class 'pandas.core.frame.DataFrame'>\n",
            "RangeIndex: 56065 entries, 0 to 56064\n",
            "Data columns (total 3 columns):\n",
            " #   Column            Non-Null Count  Dtype \n",
            "---  ------            --------------  ----- \n",
            " 0   Unnamed: 0        56065 non-null  int64 \n",
            " 1   Text              55983 non-null  object\n",
            " 2   Mental_condition  56065 non-null  int64 \n",
            "dtypes: int64(2), object(1)\n",
            "memory usage: 1.3+ MB\n"
          ],
          "name": "stdout"
        }
      ]
    },
    {
      "cell_type": "code",
      "metadata": {
        "id": "a5Mftv5tj6aU",
        "colab_type": "code",
        "colab": {
          "base_uri": "https://localhost:8080/",
          "height": 68
        },
        "outputId": "cf50ba59-f8e1-4f98-87bf-7b65c8a70e2b"
      },
      "source": [
        "nltk.download('stopwords')"
      ],
      "execution_count": 31,
      "outputs": [
        {
          "output_type": "stream",
          "text": [
            "[nltk_data] Downloading package stopwords to /root/nltk_data...\n",
            "[nltk_data]   Unzipping corpora/stopwords.zip.\n"
          ],
          "name": "stdout"
        },
        {
          "output_type": "execute_result",
          "data": {
            "text/plain": [
              "True"
            ]
          },
          "metadata": {
            "tags": []
          },
          "execution_count": 31
        }
      ]
    },
    {
      "cell_type": "markdown",
      "metadata": {
        "id": "cPaqp_gfj-NV",
        "colab_type": "text"
      },
      "source": [
        "Preprocess dataset\n"
      ]
    },
    {
      "cell_type": "code",
      "metadata": {
        "id": "DxZ_fLZQkAIo",
        "colab_type": "code",
        "colab": {}
      },
      "source": [
        "stop_words = stopwords.words(\"english\")\n",
        "stemmer = SnowballStemmer(\"english\")\n",
        "# TEXT CLENAING\n",
        "TEXT_CLEANING_RE = \"@\\S+|https?:\\S+|http?:\\S|[^A-Za-z0-9]+\""
      ],
      "execution_count": 32,
      "outputs": []
    },
    {
      "cell_type": "code",
      "metadata": {
        "id": "eFSSeCzgjpVF",
        "colab_type": "code",
        "colab": {}
      },
      "source": [
        "def preprocess(text, stem=False):\n",
        "    # Remove link,user and special characters\n",
        "    text = re.sub(TEXT_CLEANING_RE, ' ', str(text).lower()).strip()\n",
        "    tokens = []\n",
        "    for token in text.split():\n",
        "        if token not in stop_words:\n",
        "            if stem:\n",
        "                tokens.append(stemmer.stem(token))\n",
        "            else:\n",
        "                tokens.append(token)\n",
        "    return \" \".join(tokens)"
      ],
      "execution_count": 34,
      "outputs": []
    },
    {
      "cell_type": "code",
      "metadata": {
        "id": "3J_i5_2abGbw",
        "colab_type": "code",
        "colab": {
          "base_uri": "https://localhost:8080/",
          "height": 51
        },
        "outputId": "1b62334c-9ea4-4dfd-a516-e3732ab2aadc"
      },
      "source": [
        "%%time\n",
        "data.Text = data.Text.apply(lambda x: preprocess(x))"
      ],
      "execution_count": 35,
      "outputs": [
        {
          "output_type": "stream",
          "text": [
            "CPU times: user 3.55 s, sys: 8.28 ms, total: 3.56 s\n",
            "Wall time: 3.56 s\n"
          ],
          "name": "stdout"
        }
      ]
    },
    {
      "cell_type": "markdown",
      "metadata": {
        "id": "DKhOFsX_kV_N",
        "colab_type": "text"
      },
      "source": [
        "#split our dataset for train,test\n"
      ]
    },
    {
      "cell_type": "code",
      "metadata": {
        "id": "ZsnSmH4_kaQf",
        "colab_type": "code",
        "colab": {
          "base_uri": "https://localhost:8080/",
          "height": 51
        },
        "outputId": "59c6b5f2-facd-4544-eb21-a22a45e88fec"
      },
      "source": [
        "df_train, df_test = train_test_split(data, test_size=1-TRAIN_SIZE, random_state=42)\n",
        "print(\"TRAIN size:\", len(df_train))\n",
        "print(\"TEST size:\", len(df_test))"
      ],
      "execution_count": 36,
      "outputs": [
        {
          "output_type": "stream",
          "text": [
            "TRAIN size: 44852\n",
            "TEST size: 11213\n"
          ],
          "name": "stdout"
        }
      ]
    },
    {
      "cell_type": "code",
      "metadata": {
        "id": "N6QUgLw8kdC8",
        "colab_type": "code",
        "colab": {
          "base_uri": "https://localhost:8080/",
          "height": 34
        },
        "outputId": "03f1db0f-1c48-43bf-d9da-e78ae2272aa5"
      },
      "source": [
        "tokenizer = Tokenizer()\n",
        "tokenizer.fit_on_texts(df_train.Text)\n",
        "\n",
        "vocab_size = len(tokenizer.word_index) + 1\n",
        "print(\"Total words\", vocab_size)"
      ],
      "execution_count": 37,
      "outputs": [
        {
          "output_type": "stream",
          "text": [
            "Total words 40063\n"
          ],
          "name": "stdout"
        }
      ]
    },
    {
      "cell_type": "code",
      "metadata": {
        "id": "bmjTafMJkfQU",
        "colab_type": "code",
        "colab": {}
      },
      "source": [
        "SEQUENCE_LENGTH=300"
      ],
      "execution_count": 38,
      "outputs": []
    },
    {
      "cell_type": "code",
      "metadata": {
        "id": "-ljblqZVkk2j",
        "colab_type": "code",
        "colab": {}
      },
      "source": [
        "x_train = pad_sequences(tokenizer.texts_to_sequences(df_train.Text), maxlen=SEQUENCE_LENGTH)\n",
        "x_test = pad_sequences(tokenizer.texts_to_sequences(df_test.Text), maxlen=SEQUENCE_LENGTH)"
      ],
      "execution_count": 39,
      "outputs": []
    },
    {
      "cell_type": "code",
      "metadata": {
        "id": "ue-kg9gokmSj",
        "colab_type": "code",
        "colab": {
          "base_uri": "https://localhost:8080/",
          "height": 34
        },
        "outputId": "29eff2d5-e01d-4202-c97a-0e80d3319700"
      },
      "source": [
        "labels = df_train.Mental_condition.unique().tolist()\n",
        "labels"
      ],
      "execution_count": 40,
      "outputs": [
        {
          "output_type": "execute_result",
          "data": {
            "text/plain": [
              "[1, 0, 2]"
            ]
          },
          "metadata": {
            "tags": []
          },
          "execution_count": 40
        }
      ]
    },
    {
      "cell_type": "code",
      "metadata": {
        "id": "rZQvcDR5koFX",
        "colab_type": "code",
        "colab": {
          "base_uri": "https://localhost:8080/",
          "height": 34
        },
        "outputId": "2bd584ff-b32f-4e08-c952-bb60bd73a67f"
      },
      "source": [
        "\n",
        "\n",
        "y_train = pd.get_dummies(df_train['Mental_condition']).values\n",
        "y_test = pd.get_dummies(df_test['Mental_condition']).values\n",
        "print('Shape of label tensor:', y_test.shape)"
      ],
      "execution_count": 41,
      "outputs": [
        {
          "output_type": "stream",
          "text": [
            "Shape of label tensor: (11213, 3)\n"
          ],
          "name": "stdout"
        }
      ]
    },
    {
      "cell_type": "code",
      "metadata": {
        "id": "BTS7BvzKksH2",
        "colab_type": "code",
        "colab": {
          "base_uri": "https://localhost:8080/",
          "height": 102
        },
        "outputId": "149c3963-8161-4db4-d835-9826239bb42d"
      },
      "source": [
        "print(\"x_train\", x_train.shape)\n",
        "print(\"y_train\", y_train.shape)\n",
        "print()\n",
        "print(\"x_test\", x_test.shape)\n",
        "print(\"y_test\", y_test.shape)"
      ],
      "execution_count": 42,
      "outputs": [
        {
          "output_type": "stream",
          "text": [
            "x_train (44852, 300)\n",
            "y_train (44852, 3)\n",
            "\n",
            "x_test (11213, 300)\n",
            "y_test (11213, 3)\n"
          ],
          "name": "stdout"
        }
      ]
    },
    {
      "cell_type": "markdown",
      "metadata": {
        "id": "pA_8SfPqkztv",
        "colab_type": "text"
      },
      "source": [
        "#Train model\n"
      ]
    },
    {
      "cell_type": "code",
      "metadata": {
        "id": "fEZOhJhuk1RY",
        "colab_type": "code",
        "colab": {
          "base_uri": "https://localhost:8080/",
          "height": 306
        },
        "outputId": "902ab49a-d026-420a-b8b6-57d585bc8638"
      },
      "source": [
        "model = Sequential()\n",
        "model.add(Embedding(vocab_size, W2V_SIZE, input_length=SEQUENCE_LENGTH))\n",
        "model.add(SpatialDropout1D(0.2))\n",
        "model.add(LSTM(100, dropout=0.2, recurrent_dropout=0.2))\n",
        "model.add(Dense(3, activation='softmax'))\n",
        "model.compile(loss='categorical_crossentropy', optimizer='adam', metrics=['accuracy'])\n",
        "print(model.summary())\n",
        "\n"
      ],
      "execution_count": 43,
      "outputs": [
        {
          "output_type": "stream",
          "text": [
            "Model: \"sequential_1\"\n",
            "_________________________________________________________________\n",
            "Layer (type)                 Output Shape              Param #   \n",
            "=================================================================\n",
            "embedding_1 (Embedding)      (None, 300, 300)          12018900  \n",
            "_________________________________________________________________\n",
            "spatial_dropout1d_1 (Spatial (None, 300, 300)          0         \n",
            "_________________________________________________________________\n",
            "lstm_1 (LSTM)                (None, 100)               160400    \n",
            "_________________________________________________________________\n",
            "dense_1 (Dense)              (None, 3)                 303       \n",
            "=================================================================\n",
            "Total params: 12,179,603\n",
            "Trainable params: 12,179,603\n",
            "Non-trainable params: 0\n",
            "_________________________________________________________________\n",
            "None\n"
          ],
          "name": "stdout"
        }
      ]
    },
    {
      "cell_type": "code",
      "metadata": {
        "id": "9SKS4QHhlEu0",
        "colab_type": "code",
        "colab": {
          "base_uri": "https://localhost:8080/",
          "height": 224
        },
        "outputId": "49461969-6ecd-4caf-c747-7d1f641007ce"
      },
      "source": [
        "epochs = 8\n",
        "batch_size = 64\n",
        "\n",
        "history = model.fit(x_train, y_train, epochs=epochs, batch_size=batch_size,validation_split=0.1,callbacks=[EarlyStopping(monitor='val_loss', patience=3, min_delta=0.0001)])\n"
      ],
      "execution_count": 44,
      "outputs": [
        {
          "output_type": "stream",
          "text": [
            "/usr/local/lib/python3.6/dist-packages/tensorflow/python/framework/indexed_slices.py:434: UserWarning: Converting sparse IndexedSlices to a dense Tensor of unknown shape. This may consume a large amount of memory.\n",
            "  \"Converting sparse IndexedSlices to a dense Tensor of unknown shape. \"\n"
          ],
          "name": "stderr"
        },
        {
          "output_type": "stream",
          "text": [
            "Train on 40366 samples, validate on 4486 samples\n",
            "Epoch 1/8\n",
            "40366/40366 [==============================] - 653s 16ms/step - loss: 0.1785 - accuracy: 0.9353 - val_loss: 0.1017 - val_accuracy: 0.9626\n",
            "Epoch 2/8\n",
            "40366/40366 [==============================] - 656s 16ms/step - loss: 0.0695 - accuracy: 0.9743 - val_loss: 0.1027 - val_accuracy: 0.9632\n",
            "Epoch 3/8\n",
            "40366/40366 [==============================] - 656s 16ms/step - loss: 0.0488 - accuracy: 0.9816 - val_loss: 0.1072 - val_accuracy: 0.9626\n",
            "Epoch 4/8\n",
            "40366/40366 [==============================] - 657s 16ms/step - loss: 0.0371 - accuracy: 0.9858 - val_loss: 0.1227 - val_accuracy: 0.9588\n"
          ],
          "name": "stdout"
        }
      ]
    },
    {
      "cell_type": "code",
      "metadata": {
        "id": "hOCe16JhvT_q",
        "colab_type": "code",
        "colab": {
          "base_uri": "https://localhost:8080/",
          "height": 119
        },
        "outputId": "3fcb5ada-1645-4bbc-b192-182c53eb1b63"
      },
      "source": [
        "%%time\n",
        "score = model.evaluate(x_test, y_test, batch_size=64)\n",
        "print()\n",
        "print(\"ACCURACY:\",score[1])\n",
        "print(\"LOSS:\",score[0])"
      ],
      "execution_count": 45,
      "outputs": [
        {
          "output_type": "stream",
          "text": [
            "11213/11213 [==============================] - 37s 3ms/step\n",
            "\n",
            "ACCURACY: 0.9648622274398804\n",
            "LOSS: 0.10099654517350885\n",
            "CPU times: user 59.5 s, sys: 4.11 s, total: 1min 3s\n",
            "Wall time: 36.6 s\n"
          ],
          "name": "stdout"
        }
      ]
    },
    {
      "cell_type": "code",
      "metadata": {
        "id": "NG-ldpAxvclY",
        "colab_type": "code",
        "colab": {
          "base_uri": "https://localhost:8080/",
          "height": 281
        },
        "outputId": "2d01bf41-8884-4d23-839e-788f7b31356b"
      },
      "source": [
        "plt.title('Loss')\n",
        "plt.plot(history.history['loss'], label='train')\n",
        "plt.plot(history.history['val_loss'], label='test')\n",
        "plt.legend()\n",
        "plt.show();"
      ],
      "execution_count": 46,
      "outputs": [
        {
          "output_type": "display_data",
          "data": {
            "image/png": "[encoded data removed]",
            "text/plain": [
              "<Figure size 432x288 with 1 Axes>"
            ]
          },
          "metadata": {
            "tags": [],
            "needs_background": "light"
          }
        }
      ]
    },
    {
      "cell_type": "code",
      "metadata": {
        "id": "S7jFl6zEve5M",
        "colab_type": "code",
        "colab": {
          "base_uri": "https://localhost:8080/",
          "height": 68
        },
        "outputId": "f701a824-eb40-4dd6-b2f0-732004ad529e"
      },
      "source": [
        "%time\n",
        "y_pred_1d = []\n",
        "y_test_1d = list(df_test.Mental_condition)\n",
        "scores = model.predict(x_test, verbose=1, batch_size=8000)\n",
        "y_pred_1d = [np.argmax(score) for score in scores]"
      ],
      "execution_count": 48,
      "outputs": [
        {
          "output_type": "stream",
          "text": [
            "CPU times: user 2 µs, sys: 1e+03 ns, total: 3 µs\n",
            "Wall time: 5.25 µs\n",
            "11213/11213 [==============================] - 39s 3ms/step\n"
          ],
          "name": "stdout"
        }
      ]
    },
    {
      "cell_type": "markdown",
      "metadata": {
        "id": "GUvFkg-avqVx",
        "colab_type": "text"
      },
      "source": [
        "Classification report\n"
      ]
    },
    {
      "cell_type": "code",
      "metadata": {
        "id": "i0xrlJRnlKSG",
        "colab_type": "code",
        "colab": {
          "base_uri": "https://localhost:8080/",
          "height": 187
        },
        "outputId": "39bfce50-b267-4c51-81e9-d7d7e983a35d"
      },
      "source": [
        "print(classification_report(y_test_1d, y_pred_1d))"
      ],
      "execution_count": 49,
      "outputs": [
        {
          "output_type": "stream",
          "text": [
            "              precision    recall  f1-score   support\n",
            "\n",
            "           0       0.97      0.98      0.98      3198\n",
            "           1       0.96      0.97      0.97      4512\n",
            "           2       0.97      0.94      0.95      3503\n",
            "\n",
            "    accuracy                           0.96     11213\n",
            "   macro avg       0.97      0.96      0.97     11213\n",
            "weighted avg       0.96      0.96      0.96     11213\n",
            "\n"
          ],
          "name": "stdout"
        }
      ]
    },
    {
      "cell_type": "code",
      "metadata": {
        "id": "JbwmGF3XvuIh",
        "colab_type": "code",
        "colab": {
          "base_uri": "https://localhost:8080/",
          "height": 68
        },
        "outputId": "7eb4655d-1671-4a81-efeb-9e2c2b55754b"
      },
      "source": [
        "print(confusion_matrix(y_test_1d, y_pred_1d))"
      ],
      "execution_count": 50,
      "outputs": [
        {
          "output_type": "stream",
          "text": [
            "[[3130   34   34]\n",
            " [  39 4393   80]\n",
            " [  44  163 3296]]\n"
          ],
          "name": "stdout"
        }
      ]
    },
    {
      "cell_type": "markdown",
      "metadata": {
        "id": "pWAK4e0pv9lB",
        "colab_type": "text"
      },
      "source": [
        "#Inferance\n",
        "The way I am categorising risk is \n",
        "\n",
        "  1.if predicted class is 0 risk is NOT_SUICIDAL\n",
        "  2. if predicted class is 1(depression),based on prob score categorise it  into  mid risk or early sign\n",
        "  3.If predicted class is 2(suicide) its already a high risk"
      ]
    },
    {
      "cell_type": "code",
      "metadata": {
        "id": "9aoXPR1Yv8nA",
        "colab_type": "code",
        "colab": {}
      },
      "source": [
        "THRESHOLDS = (0.6, 0.8)"
      ],
      "execution_count": 51,
      "outputs": []
    },
    {
      "cell_type": "code",
      "metadata": {
        "id": "SknNNR7ewFrD",
        "colab_type": "code",
        "colab": {}
      },
      "source": [
        "def decode_risk(stage,score):  \n",
        "  if stage==0:\n",
        "    label = 'NOT_SUICIDAL'\n",
        "  elif stage==1:\n",
        "    if score >= THRESHOLDS[1]:\n",
        "      label='MID_RISK'\n",
        "    else:\n",
        "      label='EARLY_SIGN'\n",
        "  else:\n",
        "    label='HIGH RISK'\n",
        "\n",
        "  return label "
      ],
      "execution_count": 52,
      "outputs": []
    },
    {
      "cell_type": "code",
      "metadata": {
        "id": "BkG4G40vwJBr",
        "colab_type": "code",
        "colab": {}
      },
      "source": [
        "def predict(text):\n",
        "    start_at = time.time()\n",
        "    # Tokenize text\n",
        "    x_test = pad_sequences(tokenizer.texts_to_sequences([text]), maxlen=SEQUENCE_LENGTH)\n",
        "    # Predict\n",
        "    score = model.predict([x_test])[0]\n",
        "    # Decode sentiment\n",
        "    label = decode_risk(np.argmax(score),np.max(score))\n",
        "\n",
        "    return {\"label\": label, \"score\": max(score),\n",
        "       \"elapsed_time\": time.time()-start_at}  "
      ],
      "execution_count": 53,
      "outputs": []
    },
    {
      "cell_type": "code",
      "metadata": {
        "id": "5bv1AzEBwK7a",
        "colab_type": "code",
        "colab": {
          "base_uri": "https://localhost:8080/",
          "height": 68
        },
        "outputId": "025bfc09-19d0-4df6-ea4e-4f3ac90d2f39"
      },
      "source": [
        "predict(\"I want to die\")"
      ],
      "execution_count": 54,
      "outputs": [
        {
          "output_type": "execute_result",
          "data": {
            "text/plain": [
              "{'elapsed_time': 0.027460813522338867,\n",
              " 'label': 'HIGH RISK',\n",
              " 'score': 0.7687432}"
            ]
          },
          "metadata": {
            "tags": []
          },
          "execution_count": 54
        }
      ]
    },
    {
      "cell_type": "code",
      "metadata": {
        "id": "D1H0U2LewQvS",
        "colab_type": "code",
        "colab": {}
      },
      "source": [
        "# EXPORT\n",
        "KERAS_MODEL = \"model.h5\"\n",
        "TOKENIZER_MODEL = \"tokenizer.pkl\"\n",
        "import pickle"
      ],
      "execution_count": 56,
      "outputs": []
    },
    {
      "cell_type": "code",
      "metadata": {
        "id": "5_eAqEPxwTdy",
        "colab_type": "code",
        "colab": {}
      },
      "source": [
        "model.save(KERAS_MODEL)\n",
        "pickle.dump(tokenizer, open(TOKENIZER_MODEL, \"wb\"), protocol=0)"
      ],
      "execution_count": 57,
      "outputs": []
    },
    {
      "cell_type": "markdown",
      "metadata": {
        "id": "Lftppfupwg2Y",
        "colab_type": "text"
      },
      "source": [
        "#Predict few tweets\n"
      ]
    },
    {
      "cell_type": "code",
      "metadata": {
        "id": "0TjkUn93wkrS",
        "colab_type": "code",
        "colab": {
          "base_uri": "https://localhost:8080/",
          "height": 102
        },
        "outputId": "da27186d-51b8-4ca0-c0a3-3335b5e6d0e7"
      },
      "source": [
        "tweets=[\"I want to die\",\"My life sucks\",\"A am very angry\",\"I am happy\",\" depression making me crazy\"]\n",
        "for text in tweets:\n",
        "  print(predict(text))"
      ],
      "execution_count": 59,
      "outputs": [
        {
          "output_type": "stream",
          "text": [
            "{'label': 'HIGH RISK', 'score': 0.7687432, 'elapsed_time': 0.036821603775024414}\n",
            "{'label': 'HIGH RISK', 'score': 0.50610083, 'elapsed_time': 0.02121257781982422}\n",
            "{'label': 'NOT_SUICIDAL', 'score': 0.9801395, 'elapsed_time': 0.020761966705322266}\n",
            "{'label': 'NOT_SUICIDAL', 'score': 0.8870919, 'elapsed_time': 0.020190954208374023}\n",
            "{'label': 'MID_RISK', 'score': 0.9993222, 'elapsed_time': 0.020256996154785156}\n"
          ],
          "name": "stdout"
        }
      ]
    },
    {
      "cell_type": "markdown",
      "metadata": {
        "id": "-XDSFMFR0MBn",
        "colab_type": "text"
      },
      "source": [
        "#Lets see if we can load our model\n"
      ]
    },
    {
      "cell_type": "code",
      "metadata": {
        "id": "V8aOfGz90PJh",
        "colab_type": "code",
        "colab": {
          "base_uri": "https://localhost:8080/",
          "height": 343
        },
        "outputId": "1d996404-f24f-4489-90ae-2bb0126bfa3c"
      },
      "source": [
        "from numpy import loadtxt\n",
        "from keras.models import load_model\n",
        " \n",
        "# load model\n",
        "new_m = load_model('model.h5')\n",
        "# summarize model.\n",
        "new_m.summary()"
      ],
      "execution_count": 60,
      "outputs": [
        {
          "output_type": "stream",
          "text": [
            "/usr/local/lib/python3.6/dist-packages/tensorflow/python/framework/indexed_slices.py:434: UserWarning: Converting sparse IndexedSlices to a dense Tensor of unknown shape. This may consume a large amount of memory.\n",
            "  \"Converting sparse IndexedSlices to a dense Tensor of unknown shape. \"\n"
          ],
          "name": "stderr"
        },
        {
          "output_type": "stream",
          "text": [
            "Model: \"sequential_1\"\n",
            "_________________________________________________________________\n",
            "Layer (type)                 Output Shape              Param #   \n",
            "=================================================================\n",
            "embedding_1 (Embedding)      (None, 300, 300)          12018900  \n",
            "_________________________________________________________________\n",
            "spatial_dropout1d_1 (Spatial (None, 300, 300)          0         \n",
            "_________________________________________________________________\n",
            "lstm_1 (LSTM)                (None, 100)               160400    \n",
            "_________________________________________________________________\n",
            "dense_1 (Dense)              (None, 3)                 303       \n",
            "=================================================================\n",
            "Total params: 12,179,603\n",
            "Trainable params: 12,179,603\n",
            "Non-trainable params: 0\n",
            "_________________________________________________________________\n"
          ],
          "name": "stdout"
        }
      ]
    },
    {
      "cell_type": "code",
      "metadata": {
        "id": "o-bIY1Rb6OzF",
        "colab_type": "code",
        "colab": {}
      },
      "source": [
        ""
      ],
      "execution_count": null,
      "outputs": []
    },
    {
      "cell_type": "markdown",
      "metadata": {
        "id": "wo1JHgEN6UAX",
        "colab_type": "text"
      },
      "source": [
        "#Lets predict using our model on latest tweets\n"
      ]
    },
    {
      "cell_type": "code",
      "metadata": {
        "id": "l59Dfy-G6ZMJ",
        "colab_type": "code",
        "colab": {
          "base_uri": "https://localhost:8080/",
          "height": 666
        },
        "outputId": "2c9e6804-d845-46e5-b2fa-edc55d56dd17"
      },
      "source": [
        "Pred_data=pd.read_csv(\"df_output.csv\")\n",
        "Pred_data.head()"
      ],
      "execution_count": 61,
      "outputs": [
        {
          "output_type": "execute_result",
          "data": {
            "text/html": [
              "<div>\n",
              "<style scoped>\n",
              "    .dataframe tbody tr th:only-of-type {\n",
              "        vertical-align: middle;\n",
              "    }\n",
              "\n",
              "    .dataframe tbody tr th {\n",
              "        vertical-align: top;\n",
              "    }\n",
              "\n",
              "    .dataframe thead th {\n",
              "        text-align: right;\n",
              "    }\n",
              "</style>\n",
              "<table border=\"1\" class=\"dataframe\">\n",
              "  <thead>\n",
              "    <tr style=\"text-align: right;\">\n",
              "      <th></th>\n",
              "      <th>Unnamed: 0</th>\n",
              "      <th>User</th>\n",
              "      <th>Text</th>\n",
              "      <th>Retweets</th>\n",
              "      <th>Favorites</th>\n",
              "      <th>HashTags</th>\n",
              "      <th>City</th>\n",
              "      <th>date</th>\n",
              "      <th>time</th>\n",
              "      <th>month_year</th>\n",
              "      <th>text_nlp</th>\n",
              "      <th>text_len</th>\n",
              "      <th>word_count</th>\n",
              "      <th>polarity</th>\n",
              "      <th>sentiment</th>\n",
              "      <th>people, life, change, die, virus, save, kill, normal, sick, action</th>\n",
              "      <th>thing, make, end, talk, person, quarantine, grow, win, reason, light</th>\n",
              "      <th>face, social, make, wear, weekend, mask, practice, distancing, distance, park</th>\n",
              "      <th>mind, bring, moment, create, full, thought, dream, power, experience, find</th>\n",
              "      <th>time, year, follow, post, hour, step, turn, ago, spend, provide</th>\n",
              "      <th>good, morning, fitness, daily, hit, yoga, member, early, live, wake</th>\n",
              "      <th>show, long, play, read, lol, line, picture, buy, fall, store</th>\n",
              "      <th>family, friend, positive, death, case, test, rise, state, number, black</th>\n",
              "      <th>check, night, watch, video, good, message, yesterday, full, late, youtube</th>\n",
              "      <th>work, give, hard, smile, happen, challenge, man, pay, beat, tough</th>\n",
              "      <th>day, happy, start, enjoy, beautiful, birthday, celebrate, week, movement, begin</th>\n",
              "      <th>training, ready, gym, find, train, online, woman, personal, top, fun</th>\n",
              "      <th>friend, listen, big, hand, game, lose, head, repost, shoot, awareness</th>\n",
              "      <th>world, place, put, remember, hope, lot, story, hear, forget, true</th>\n",
              "      <th>live, tonight, pm, join, meditation, share, music, word, favorite, tune</th>\n",
              "      <th>essential, support, care, worker, health, continue, fight, community, risk, business</th>\n",
              "      <th>order, free, call, open, food, sign, eye, studio, delivery, pick</th>\n",
              "      <th>love, great, guy, amazing, team, send, heart, job, nice, super</th>\n",
              "      <th>today, wait, book, link, bio, miss, session, tomorrow, visit, website</th>\n",
              "      <th>run, move, walk, eat, bad, easy, forward, mile, pretty, baby</th>\n",
              "      <th>feel, back, leave, important, double, energy, finally, tap, client, box</th>\n",
              "      <th>week, class, month, kid, virtual, join, dance, tomorrow, teach, photo</th>\n",
              "      <th>stop, learn, start, real, fear, part, close, break, school, share</th>\n",
              "      <th>set, exercise, minute, push, side, rest, leg, squat, schedule, info</th>\n",
              "      <th>stay, home, safe, healthy, fit, season, active, update, pray, inside</th>\n",
              "      <th>workout, body, strong, goal, high, focus, build, strength, add, level</th>\n",
              "      <th>0</th>\n",
              "      <th>1</th>\n",
              "      <th>2</th>\n",
              "      <th>3</th>\n",
              "      <th>4</th>\n",
              "      <th>5</th>\n",
              "      <th>6</th>\n",
              "      <th>7</th>\n",
              "      <th>8</th>\n",
              "      <th>9</th>\n",
              "      <th>10</th>\n",
              "      <th>11</th>\n",
              "      <th>12</th>\n",
              "      <th>13</th>\n",
              "      <th>14</th>\n",
              "      <th>15</th>\n",
              "      <th>16</th>\n",
              "      <th>17</th>\n",
              "      <th>18</th>\n",
              "      <th>19</th>\n",
              "      <th>20</th>\n",
              "      <th>21</th>\n",
              "      <th>22</th>\n",
              "      <th>23</th>\n",
              "      <th>24</th>\n",
              "    </tr>\n",
              "  </thead>\n",
              "  <tbody>\n",
              "    <tr>\n",
              "      <th>0</th>\n",
              "      <td>0</td>\n",
              "      <td>michaelbarata</td>\n",
              "      <td>New Blog Post: True Connection #love #connecti...</td>\n",
              "      <td>0</td>\n",
              "      <td>0</td>\n",
              "      <td>#love #connection #fear #lawofattraction</td>\n",
              "      <td>NY</td>\n",
              "      <td>2020-07-11</td>\n",
              "      <td>16:29:35</td>\n",
              "      <td>2020-07</td>\n",
              "      <td>new blog post true connection</td>\n",
              "      <td>34</td>\n",
              "      <td>5</td>\n",
              "      <td>0.243182</td>\n",
              "      <td>positive</td>\n",
              "      <td>0.035613</td>\n",
              "      <td>0.035613</td>\n",
              "      <td>0.035613</td>\n",
              "      <td>0.035613</td>\n",
              "      <td>0.054131</td>\n",
              "      <td>0.03767</td>\n",
              "      <td>0.035613</td>\n",
              "      <td>0.035613</td>\n",
              "      <td>0.035613</td>\n",
              "      <td>0.03767</td>\n",
              "      <td>0.035613</td>\n",
              "      <td>0.035613</td>\n",
              "      <td>0.035613</td>\n",
              "      <td>0.054131</td>\n",
              "      <td>0.035613</td>\n",
              "      <td>0.035613</td>\n",
              "      <td>0.035613</td>\n",
              "      <td>0.035613</td>\n",
              "      <td>0.052073</td>\n",
              "      <td>0.035613</td>\n",
              "      <td>0.035613</td>\n",
              "      <td>0.035613</td>\n",
              "      <td>0.052073</td>\n",
              "      <td>0.035613</td>\n",
              "      <td>0.035613</td>\n",
              "      <td>0.035613</td>\n",
              "      <td>0</td>\n",
              "      <td>0</td>\n",
              "      <td>0</td>\n",
              "      <td>0</td>\n",
              "      <td>0</td>\n",
              "      <td>0</td>\n",
              "      <td>0</td>\n",
              "      <td>0</td>\n",
              "      <td>0</td>\n",
              "      <td>0</td>\n",
              "      <td>0</td>\n",
              "      <td>0</td>\n",
              "      <td>0</td>\n",
              "      <td>0</td>\n",
              "      <td>0</td>\n",
              "      <td>0</td>\n",
              "      <td>0</td>\n",
              "      <td>0</td>\n",
              "      <td>0</td>\n",
              "      <td>0</td>\n",
              "      <td>0</td>\n",
              "      <td>0</td>\n",
              "      <td>0</td>\n",
              "      <td>0</td>\n",
              "      <td>0</td>\n",
              "    </tr>\n",
              "    <tr>\n",
              "      <th>1</th>\n",
              "      <td>0</td>\n",
              "      <td>_TraceDollFace_</td>\n",
              "      <td>Oh a reunion heyyy #Alone</td>\n",
              "      <td>0</td>\n",
              "      <td>0</td>\n",
              "      <td>#Alone</td>\n",
              "      <td>NY</td>\n",
              "      <td>2020-07-11</td>\n",
              "      <td>19:43:21</td>\n",
              "      <td>2020-07</td>\n",
              "      <td>oh reunion heyyy</td>\n",
              "      <td>19</td>\n",
              "      <td>4</td>\n",
              "      <td>0.000000</td>\n",
              "      <td>neutral</td>\n",
              "      <td>0.035613</td>\n",
              "      <td>0.035613</td>\n",
              "      <td>0.035613</td>\n",
              "      <td>0.035613</td>\n",
              "      <td>0.054131</td>\n",
              "      <td>0.03767</td>\n",
              "      <td>0.035613</td>\n",
              "      <td>0.035613</td>\n",
              "      <td>0.035613</td>\n",
              "      <td>0.03767</td>\n",
              "      <td>0.035613</td>\n",
              "      <td>0.035613</td>\n",
              "      <td>0.035613</td>\n",
              "      <td>0.054131</td>\n",
              "      <td>0.035613</td>\n",
              "      <td>0.035613</td>\n",
              "      <td>0.035613</td>\n",
              "      <td>0.035613</td>\n",
              "      <td>0.052073</td>\n",
              "      <td>0.035613</td>\n",
              "      <td>0.035613</td>\n",
              "      <td>0.035613</td>\n",
              "      <td>0.052073</td>\n",
              "      <td>0.035613</td>\n",
              "      <td>0.035613</td>\n",
              "      <td>0.035613</td>\n",
              "      <td>0</td>\n",
              "      <td>0</td>\n",
              "      <td>0</td>\n",
              "      <td>0</td>\n",
              "      <td>0</td>\n",
              "      <td>0</td>\n",
              "      <td>0</td>\n",
              "      <td>0</td>\n",
              "      <td>0</td>\n",
              "      <td>0</td>\n",
              "      <td>0</td>\n",
              "      <td>0</td>\n",
              "      <td>0</td>\n",
              "      <td>0</td>\n",
              "      <td>0</td>\n",
              "      <td>0</td>\n",
              "      <td>0</td>\n",
              "      <td>0</td>\n",
              "      <td>0</td>\n",
              "      <td>0</td>\n",
              "      <td>0</td>\n",
              "      <td>0</td>\n",
              "      <td>0</td>\n",
              "      <td>0</td>\n",
              "      <td>0</td>\n",
              "    </tr>\n",
              "    <tr>\n",
              "      <th>2</th>\n",
              "      <td>0</td>\n",
              "      <td>sackec</td>\n",
              "      <td>Couldn’t be more accurate! The MLS will now ha...</td>\n",
              "      <td>0</td>\n",
              "      <td>0</td>\n",
              "      <td>#getoutofnyasfastasyoucan #sadness</td>\n",
              "      <td>NY</td>\n",
              "      <td>2020-07-01</td>\n",
              "      <td>12:42:16</td>\n",
              "      <td>2020-07</td>\n",
              "      <td>couldn t accurate mls new home listing thanks ...</td>\n",
              "      <td>139</td>\n",
              "      <td>24</td>\n",
              "      <td>0.245455</td>\n",
              "      <td>positive</td>\n",
              "      <td>0.035613</td>\n",
              "      <td>0.035613</td>\n",
              "      <td>0.035613</td>\n",
              "      <td>0.035613</td>\n",
              "      <td>0.054131</td>\n",
              "      <td>0.03767</td>\n",
              "      <td>0.035613</td>\n",
              "      <td>0.035613</td>\n",
              "      <td>0.035613</td>\n",
              "      <td>0.03767</td>\n",
              "      <td>0.035613</td>\n",
              "      <td>0.035613</td>\n",
              "      <td>0.035613</td>\n",
              "      <td>0.054131</td>\n",
              "      <td>0.035613</td>\n",
              "      <td>0.035613</td>\n",
              "      <td>0.035613</td>\n",
              "      <td>0.035613</td>\n",
              "      <td>0.052073</td>\n",
              "      <td>0.035613</td>\n",
              "      <td>0.035613</td>\n",
              "      <td>0.035613</td>\n",
              "      <td>0.052073</td>\n",
              "      <td>0.035613</td>\n",
              "      <td>0.035613</td>\n",
              "      <td>0.035613</td>\n",
              "      <td>0</td>\n",
              "      <td>0</td>\n",
              "      <td>0</td>\n",
              "      <td>0</td>\n",
              "      <td>0</td>\n",
              "      <td>0</td>\n",
              "      <td>0</td>\n",
              "      <td>0</td>\n",
              "      <td>0</td>\n",
              "      <td>0</td>\n",
              "      <td>0</td>\n",
              "      <td>0</td>\n",
              "      <td>0</td>\n",
              "      <td>0</td>\n",
              "      <td>0</td>\n",
              "      <td>0</td>\n",
              "      <td>0</td>\n",
              "      <td>0</td>\n",
              "      <td>0</td>\n",
              "      <td>0</td>\n",
              "      <td>0</td>\n",
              "      <td>0</td>\n",
              "      <td>0</td>\n",
              "      <td>0</td>\n",
              "      <td>0</td>\n",
              "    </tr>\n",
              "    <tr>\n",
              "      <th>3</th>\n",
              "      <td>0</td>\n",
              "      <td>MamaAlboranista</td>\n",
              "      <td>#Repost goldenrulewill ・・・ via @lovewillam_ #R...</td>\n",
              "      <td>0</td>\n",
              "      <td>2</td>\n",
              "      <td>#Repost #Repost #suicideawarness #suicide #dep...</td>\n",
              "      <td>NY</td>\n",
              "      <td>2020-07-10</td>\n",
              "      <td>17:56:18</td>\n",
              "      <td>2020-07</td>\n",
              "      <td>goldenrulewill via lovewillam_ atrainlive make...</td>\n",
              "      <td>95</td>\n",
              "      <td>12</td>\n",
              "      <td>0.136364</td>\n",
              "      <td>positive</td>\n",
              "      <td>0.035613</td>\n",
              "      <td>0.035613</td>\n",
              "      <td>0.035613</td>\n",
              "      <td>0.035613</td>\n",
              "      <td>0.054131</td>\n",
              "      <td>0.03767</td>\n",
              "      <td>0.035613</td>\n",
              "      <td>0.035613</td>\n",
              "      <td>0.035613</td>\n",
              "      <td>0.03767</td>\n",
              "      <td>0.035613</td>\n",
              "      <td>0.035613</td>\n",
              "      <td>0.035613</td>\n",
              "      <td>0.054131</td>\n",
              "      <td>0.035613</td>\n",
              "      <td>0.035613</td>\n",
              "      <td>0.035613</td>\n",
              "      <td>0.035613</td>\n",
              "      <td>0.052073</td>\n",
              "      <td>0.035613</td>\n",
              "      <td>0.035613</td>\n",
              "      <td>0.035613</td>\n",
              "      <td>0.052073</td>\n",
              "      <td>0.035613</td>\n",
              "      <td>0.035613</td>\n",
              "      <td>0.035613</td>\n",
              "      <td>0</td>\n",
              "      <td>0</td>\n",
              "      <td>0</td>\n",
              "      <td>0</td>\n",
              "      <td>0</td>\n",
              "      <td>0</td>\n",
              "      <td>0</td>\n",
              "      <td>0</td>\n",
              "      <td>0</td>\n",
              "      <td>0</td>\n",
              "      <td>0</td>\n",
              "      <td>0</td>\n",
              "      <td>0</td>\n",
              "      <td>0</td>\n",
              "      <td>0</td>\n",
              "      <td>0</td>\n",
              "      <td>0</td>\n",
              "      <td>0</td>\n",
              "      <td>0</td>\n",
              "      <td>0</td>\n",
              "      <td>0</td>\n",
              "      <td>0</td>\n",
              "      <td>0</td>\n",
              "      <td>0</td>\n",
              "      <td>0</td>\n",
              "    </tr>\n",
              "    <tr>\n",
              "      <th>4</th>\n",
              "      <td>0</td>\n",
              "      <td>Moosekj25</td>\n",
              "      <td>Hey, so if Maxwell meets a premature end here ...</td>\n",
              "      <td>0</td>\n",
              "      <td>0</td>\n",
              "      <td>#DeepStateCabal #PANIC</td>\n",
              "      <td>NY</td>\n",
              "      <td>2020-07-10</td>\n",
              "      <td>13:34:46</td>\n",
              "      <td>2020-07</td>\n",
              "      <td>hey maxwell meets premature end near future on...</td>\n",
              "      <td>230</td>\n",
              "      <td>44</td>\n",
              "      <td>0.033333</td>\n",
              "      <td>positive</td>\n",
              "      <td>0.035613</td>\n",
              "      <td>0.035613</td>\n",
              "      <td>0.035613</td>\n",
              "      <td>0.035613</td>\n",
              "      <td>0.054131</td>\n",
              "      <td>0.03767</td>\n",
              "      <td>0.035613</td>\n",
              "      <td>0.035613</td>\n",
              "      <td>0.035613</td>\n",
              "      <td>0.03767</td>\n",
              "      <td>0.035613</td>\n",
              "      <td>0.035613</td>\n",
              "      <td>0.035613</td>\n",
              "      <td>0.054131</td>\n",
              "      <td>0.035613</td>\n",
              "      <td>0.035613</td>\n",
              "      <td>0.035613</td>\n",
              "      <td>0.035613</td>\n",
              "      <td>0.052073</td>\n",
              "      <td>0.035613</td>\n",
              "      <td>0.035613</td>\n",
              "      <td>0.035613</td>\n",
              "      <td>0.052073</td>\n",
              "      <td>0.035613</td>\n",
              "      <td>0.035613</td>\n",
              "      <td>0.035613</td>\n",
              "      <td>0</td>\n",
              "      <td>0</td>\n",
              "      <td>0</td>\n",
              "      <td>0</td>\n",
              "      <td>0</td>\n",
              "      <td>0</td>\n",
              "      <td>0</td>\n",
              "      <td>0</td>\n",
              "      <td>0</td>\n",
              "      <td>0</td>\n",
              "      <td>0</td>\n",
              "      <td>0</td>\n",
              "      <td>0</td>\n",
              "      <td>0</td>\n",
              "      <td>0</td>\n",
              "      <td>0</td>\n",
              "      <td>0</td>\n",
              "      <td>0</td>\n",
              "      <td>0</td>\n",
              "      <td>0</td>\n",
              "      <td>0</td>\n",
              "      <td>0</td>\n",
              "      <td>0</td>\n",
              "      <td>0</td>\n",
              "      <td>0</td>\n",
              "    </tr>\n",
              "  </tbody>\n",
              "</table>\n",
              "</div>"
            ],
            "text/plain": [
              "   Unnamed: 0             User  ... 23  24\n",
              "0           0    michaelbarata  ...  0   0\n",
              "1           0  _TraceDollFace_  ...  0   0\n",
              "2           0           sackec  ...  0   0\n",
              "3           0  MamaAlboranista  ...  0   0\n",
              "4           0        Moosekj25  ...  0   0\n",
              "\n",
              "[5 rows x 66 columns]"
            ]
          },
          "metadata": {
            "tags": []
          },
          "execution_count": 61
        }
      ]
    },
    {
      "cell_type": "code",
      "metadata": {
        "id": "Op6VabFe6ykq",
        "colab_type": "code",
        "colab": {
          "base_uri": "https://localhost:8080/",
          "height": 51
        },
        "outputId": "04d56456-2146-43ec-802c-47e0e4938cd6"
      },
      "source": [
        "%%time\n",
        "Pred_data['Processed_Text'] = Pred_data.Text.apply(lambda x: preprocess(x))"
      ],
      "execution_count": 62,
      "outputs": [
        {
          "output_type": "stream",
          "text": [
            "CPU times: user 1.57 s, sys: 4.89 ms, total: 1.58 s\n",
            "Wall time: 1.58 s\n"
          ],
          "name": "stdout"
        }
      ]
    },
    {
      "cell_type": "code",
      "metadata": {
        "colab_type": "code",
        "id": "X9ViNS_h7vxm",
        "colab": {
          "base_uri": "https://localhost:8080/",
          "height": 666
        },
        "outputId": "02e659f0-aff7-4b9a-d673-c3355dd0a9e7"
      },
      "source": [
        "Pred_data.head()"
      ],
      "execution_count": 63,
      "outputs": [
        {
          "output_type": "execute_result",
          "data": {
            "text/html": [
              "<div>\n",
              "<style scoped>\n",
              "    .dataframe tbody tr th:only-of-type {\n",
              "        vertical-align: middle;\n",
              "    }\n",
              "\n",
              "    .dataframe tbody tr th {\n",
              "        vertical-align: top;\n",
              "    }\n",
              "\n",
              "    .dataframe thead th {\n",
              "        text-align: right;\n",
              "    }\n",
              "</style>\n",
              "<table border=\"1\" class=\"dataframe\">\n",
              "  <thead>\n",
              "    <tr style=\"text-align: right;\">\n",
              "      <th></th>\n",
              "      <th>Unnamed: 0</th>\n",
              "      <th>User</th>\n",
              "      <th>Text</th>\n",
              "      <th>Retweets</th>\n",
              "      <th>Favorites</th>\n",
              "      <th>HashTags</th>\n",
              "      <th>City</th>\n",
              "      <th>date</th>\n",
              "      <th>time</th>\n",
              "      <th>month_year</th>\n",
              "      <th>text_nlp</th>\n",
              "      <th>text_len</th>\n",
              "      <th>word_count</th>\n",
              "      <th>polarity</th>\n",
              "      <th>sentiment</th>\n",
              "      <th>people, life, change, die, virus, save, kill, normal, sick, action</th>\n",
              "      <th>thing, make, end, talk, person, quarantine, grow, win, reason, light</th>\n",
              "      <th>face, social, make, wear, weekend, mask, practice, distancing, distance, park</th>\n",
              "      <th>mind, bring, moment, create, full, thought, dream, power, experience, find</th>\n",
              "      <th>time, year, follow, post, hour, step, turn, ago, spend, provide</th>\n",
              "      <th>good, morning, fitness, daily, hit, yoga, member, early, live, wake</th>\n",
              "      <th>show, long, play, read, lol, line, picture, buy, fall, store</th>\n",
              "      <th>family, friend, positive, death, case, test, rise, state, number, black</th>\n",
              "      <th>check, night, watch, video, good, message, yesterday, full, late, youtube</th>\n",
              "      <th>work, give, hard, smile, happen, challenge, man, pay, beat, tough</th>\n",
              "      <th>day, happy, start, enjoy, beautiful, birthday, celebrate, week, movement, begin</th>\n",
              "      <th>training, ready, gym, find, train, online, woman, personal, top, fun</th>\n",
              "      <th>friend, listen, big, hand, game, lose, head, repost, shoot, awareness</th>\n",
              "      <th>world, place, put, remember, hope, lot, story, hear, forget, true</th>\n",
              "      <th>live, tonight, pm, join, meditation, share, music, word, favorite, tune</th>\n",
              "      <th>essential, support, care, worker, health, continue, fight, community, risk, business</th>\n",
              "      <th>order, free, call, open, food, sign, eye, studio, delivery, pick</th>\n",
              "      <th>love, great, guy, amazing, team, send, heart, job, nice, super</th>\n",
              "      <th>today, wait, book, link, bio, miss, session, tomorrow, visit, website</th>\n",
              "      <th>run, move, walk, eat, bad, easy, forward, mile, pretty, baby</th>\n",
              "      <th>feel, back, leave, important, double, energy, finally, tap, client, box</th>\n",
              "      <th>week, class, month, kid, virtual, join, dance, tomorrow, teach, photo</th>\n",
              "      <th>stop, learn, start, real, fear, part, close, break, school, share</th>\n",
              "      <th>set, exercise, minute, push, side, rest, leg, squat, schedule, info</th>\n",
              "      <th>stay, home, safe, healthy, fit, season, active, update, pray, inside</th>\n",
              "      <th>workout, body, strong, goal, high, focus, build, strength, add, level</th>\n",
              "      <th>0</th>\n",
              "      <th>1</th>\n",
              "      <th>2</th>\n",
              "      <th>3</th>\n",
              "      <th>4</th>\n",
              "      <th>5</th>\n",
              "      <th>6</th>\n",
              "      <th>7</th>\n",
              "      <th>8</th>\n",
              "      <th>9</th>\n",
              "      <th>10</th>\n",
              "      <th>11</th>\n",
              "      <th>12</th>\n",
              "      <th>13</th>\n",
              "      <th>14</th>\n",
              "      <th>15</th>\n",
              "      <th>16</th>\n",
              "      <th>17</th>\n",
              "      <th>18</th>\n",
              "      <th>19</th>\n",
              "      <th>20</th>\n",
              "      <th>21</th>\n",
              "      <th>22</th>\n",
              "      <th>23</th>\n",
              "      <th>24</th>\n",
              "      <th>Processed_Text</th>\n",
              "    </tr>\n",
              "  </thead>\n",
              "  <tbody>\n",
              "    <tr>\n",
              "      <th>0</th>\n",
              "      <td>0</td>\n",
              "      <td>michaelbarata</td>\n",
              "      <td>New Blog Post: True Connection #love #connecti...</td>\n",
              "      <td>0</td>\n",
              "      <td>0</td>\n",
              "      <td>#love #connection #fear #lawofattraction</td>\n",
              "      <td>NY</td>\n",
              "      <td>2020-07-11</td>\n",
              "      <td>16:29:35</td>\n",
              "      <td>2020-07</td>\n",
              "      <td>new blog post true connection</td>\n",
              "      <td>34</td>\n",
              "      <td>5</td>\n",
              "      <td>0.243182</td>\n",
              "      <td>positive</td>\n",
              "      <td>0.035613</td>\n",
              "      <td>0.035613</td>\n",
              "      <td>0.035613</td>\n",
              "      <td>0.035613</td>\n",
              "      <td>0.054131</td>\n",
              "      <td>0.03767</td>\n",
              "      <td>0.035613</td>\n",
              "      <td>0.035613</td>\n",
              "      <td>0.035613</td>\n",
              "      <td>0.03767</td>\n",
              "      <td>0.035613</td>\n",
              "      <td>0.035613</td>\n",
              "      <td>0.035613</td>\n",
              "      <td>0.054131</td>\n",
              "      <td>0.035613</td>\n",
              "      <td>0.035613</td>\n",
              "      <td>0.035613</td>\n",
              "      <td>0.035613</td>\n",
              "      <td>0.052073</td>\n",
              "      <td>0.035613</td>\n",
              "      <td>0.035613</td>\n",
              "      <td>0.035613</td>\n",
              "      <td>0.052073</td>\n",
              "      <td>0.035613</td>\n",
              "      <td>0.035613</td>\n",
              "      <td>0.035613</td>\n",
              "      <td>0</td>\n",
              "      <td>0</td>\n",
              "      <td>0</td>\n",
              "      <td>0</td>\n",
              "      <td>0</td>\n",
              "      <td>0</td>\n",
              "      <td>0</td>\n",
              "      <td>0</td>\n",
              "      <td>0</td>\n",
              "      <td>0</td>\n",
              "      <td>0</td>\n",
              "      <td>0</td>\n",
              "      <td>0</td>\n",
              "      <td>0</td>\n",
              "      <td>0</td>\n",
              "      <td>0</td>\n",
              "      <td>0</td>\n",
              "      <td>0</td>\n",
              "      <td>0</td>\n",
              "      <td>0</td>\n",
              "      <td>0</td>\n",
              "      <td>0</td>\n",
              "      <td>0</td>\n",
              "      <td>0</td>\n",
              "      <td>0</td>\n",
              "      <td>new blog post true connection love connection ...</td>\n",
              "    </tr>\n",
              "    <tr>\n",
              "      <th>1</th>\n",
              "      <td>0</td>\n",
              "      <td>_TraceDollFace_</td>\n",
              "      <td>Oh a reunion heyyy #Alone</td>\n",
              "      <td>0</td>\n",
              "      <td>0</td>\n",
              "      <td>#Alone</td>\n",
              "      <td>NY</td>\n",
              "      <td>2020-07-11</td>\n",
              "      <td>19:43:21</td>\n",
              "      <td>2020-07</td>\n",
              "      <td>oh reunion heyyy</td>\n",
              "      <td>19</td>\n",
              "      <td>4</td>\n",
              "      <td>0.000000</td>\n",
              "      <td>neutral</td>\n",
              "      <td>0.035613</td>\n",
              "      <td>0.035613</td>\n",
              "      <td>0.035613</td>\n",
              "      <td>0.035613</td>\n",
              "      <td>0.054131</td>\n",
              "      <td>0.03767</td>\n",
              "      <td>0.035613</td>\n",
              "      <td>0.035613</td>\n",
              "      <td>0.035613</td>\n",
              "      <td>0.03767</td>\n",
              "      <td>0.035613</td>\n",
              "      <td>0.035613</td>\n",
              "      <td>0.035613</td>\n",
              "      <td>0.054131</td>\n",
              "      <td>0.035613</td>\n",
              "      <td>0.035613</td>\n",
              "      <td>0.035613</td>\n",
              "      <td>0.035613</td>\n",
              "      <td>0.052073</td>\n",
              "      <td>0.035613</td>\n",
              "      <td>0.035613</td>\n",
              "      <td>0.035613</td>\n",
              "      <td>0.052073</td>\n",
              "      <td>0.035613</td>\n",
              "      <td>0.035613</td>\n",
              "      <td>0.035613</td>\n",
              "      <td>0</td>\n",
              "      <td>0</td>\n",
              "      <td>0</td>\n",
              "      <td>0</td>\n",
              "      <td>0</td>\n",
              "      <td>0</td>\n",
              "      <td>0</td>\n",
              "      <td>0</td>\n",
              "      <td>0</td>\n",
              "      <td>0</td>\n",
              "      <td>0</td>\n",
              "      <td>0</td>\n",
              "      <td>0</td>\n",
              "      <td>0</td>\n",
              "      <td>0</td>\n",
              "      <td>0</td>\n",
              "      <td>0</td>\n",
              "      <td>0</td>\n",
              "      <td>0</td>\n",
              "      <td>0</td>\n",
              "      <td>0</td>\n",
              "      <td>0</td>\n",
              "      <td>0</td>\n",
              "      <td>0</td>\n",
              "      <td>0</td>\n",
              "      <td>oh reunion heyyy alone</td>\n",
              "    </tr>\n",
              "    <tr>\n",
              "      <th>2</th>\n",
              "      <td>0</td>\n",
              "      <td>sackec</td>\n",
              "      <td>Couldn’t be more accurate! The MLS will now ha...</td>\n",
              "      <td>0</td>\n",
              "      <td>0</td>\n",
              "      <td>#getoutofnyasfastasyoucan #sadness</td>\n",
              "      <td>NY</td>\n",
              "      <td>2020-07-01</td>\n",
              "      <td>12:42:16</td>\n",
              "      <td>2020-07</td>\n",
              "      <td>couldn t accurate mls new home listing thanks ...</td>\n",
              "      <td>139</td>\n",
              "      <td>24</td>\n",
              "      <td>0.245455</td>\n",
              "      <td>positive</td>\n",
              "      <td>0.035613</td>\n",
              "      <td>0.035613</td>\n",
              "      <td>0.035613</td>\n",
              "      <td>0.035613</td>\n",
              "      <td>0.054131</td>\n",
              "      <td>0.03767</td>\n",
              "      <td>0.035613</td>\n",
              "      <td>0.035613</td>\n",
              "      <td>0.035613</td>\n",
              "      <td>0.03767</td>\n",
              "      <td>0.035613</td>\n",
              "      <td>0.035613</td>\n",
              "      <td>0.035613</td>\n",
              "      <td>0.054131</td>\n",
              "      <td>0.035613</td>\n",
              "      <td>0.035613</td>\n",
              "      <td>0.035613</td>\n",
              "      <td>0.035613</td>\n",
              "      <td>0.052073</td>\n",
              "      <td>0.035613</td>\n",
              "      <td>0.035613</td>\n",
              "      <td>0.035613</td>\n",
              "      <td>0.052073</td>\n",
              "      <td>0.035613</td>\n",
              "      <td>0.035613</td>\n",
              "      <td>0.035613</td>\n",
              "      <td>0</td>\n",
              "      <td>0</td>\n",
              "      <td>0</td>\n",
              "      <td>0</td>\n",
              "      <td>0</td>\n",
              "      <td>0</td>\n",
              "      <td>0</td>\n",
              "      <td>0</td>\n",
              "      <td>0</td>\n",
              "      <td>0</td>\n",
              "      <td>0</td>\n",
              "      <td>0</td>\n",
              "      <td>0</td>\n",
              "      <td>0</td>\n",
              "      <td>0</td>\n",
              "      <td>0</td>\n",
              "      <td>0</td>\n",
              "      <td>0</td>\n",
              "      <td>0</td>\n",
              "      <td>0</td>\n",
              "      <td>0</td>\n",
              "      <td>0</td>\n",
              "      <td>0</td>\n",
              "      <td>0</td>\n",
              "      <td>0</td>\n",
              "      <td>accurate mls new home listing thanks thank tan...</td>\n",
              "    </tr>\n",
              "    <tr>\n",
              "      <th>3</th>\n",
              "      <td>0</td>\n",
              "      <td>MamaAlboranista</td>\n",
              "      <td>#Repost goldenrulewill ・・・ via @lovewillam_ #R...</td>\n",
              "      <td>0</td>\n",
              "      <td>2</td>\n",
              "      <td>#Repost #Repost #suicideawarness #suicide #dep...</td>\n",
              "      <td>NY</td>\n",
              "      <td>2020-07-10</td>\n",
              "      <td>17:56:18</td>\n",
              "      <td>2020-07</td>\n",
              "      <td>goldenrulewill via lovewillam_ atrainlive make...</td>\n",
              "      <td>95</td>\n",
              "      <td>12</td>\n",
              "      <td>0.136364</td>\n",
              "      <td>positive</td>\n",
              "      <td>0.035613</td>\n",
              "      <td>0.035613</td>\n",
              "      <td>0.035613</td>\n",
              "      <td>0.035613</td>\n",
              "      <td>0.054131</td>\n",
              "      <td>0.03767</td>\n",
              "      <td>0.035613</td>\n",
              "      <td>0.035613</td>\n",
              "      <td>0.035613</td>\n",
              "      <td>0.03767</td>\n",
              "      <td>0.035613</td>\n",
              "      <td>0.035613</td>\n",
              "      <td>0.035613</td>\n",
              "      <td>0.054131</td>\n",
              "      <td>0.035613</td>\n",
              "      <td>0.035613</td>\n",
              "      <td>0.035613</td>\n",
              "      <td>0.035613</td>\n",
              "      <td>0.052073</td>\n",
              "      <td>0.035613</td>\n",
              "      <td>0.035613</td>\n",
              "      <td>0.035613</td>\n",
              "      <td>0.052073</td>\n",
              "      <td>0.035613</td>\n",
              "      <td>0.035613</td>\n",
              "      <td>0.035613</td>\n",
              "      <td>0</td>\n",
              "      <td>0</td>\n",
              "      <td>0</td>\n",
              "      <td>0</td>\n",
              "      <td>0</td>\n",
              "      <td>0</td>\n",
              "      <td>0</td>\n",
              "      <td>0</td>\n",
              "      <td>0</td>\n",
              "      <td>0</td>\n",
              "      <td>0</td>\n",
              "      <td>0</td>\n",
              "      <td>0</td>\n",
              "      <td>0</td>\n",
              "      <td>0</td>\n",
              "      <td>0</td>\n",
              "      <td>0</td>\n",
              "      <td>0</td>\n",
              "      <td>0</td>\n",
              "      <td>0</td>\n",
              "      <td>0</td>\n",
              "      <td>0</td>\n",
              "      <td>0</td>\n",
              "      <td>0</td>\n",
              "      <td>0</td>\n",
              "      <td>repost goldenrulewill via lovewillam repost at...</td>\n",
              "    </tr>\n",
              "    <tr>\n",
              "      <th>4</th>\n",
              "      <td>0</td>\n",
              "      <td>Moosekj25</td>\n",
              "      <td>Hey, so if Maxwell meets a premature end here ...</td>\n",
              "      <td>0</td>\n",
              "      <td>0</td>\n",
              "      <td>#DeepStateCabal #PANIC</td>\n",
              "      <td>NY</td>\n",
              "      <td>2020-07-10</td>\n",
              "      <td>13:34:46</td>\n",
              "      <td>2020-07</td>\n",
              "      <td>hey maxwell meets premature end near future on...</td>\n",
              "      <td>230</td>\n",
              "      <td>44</td>\n",
              "      <td>0.033333</td>\n",
              "      <td>positive</td>\n",
              "      <td>0.035613</td>\n",
              "      <td>0.035613</td>\n",
              "      <td>0.035613</td>\n",
              "      <td>0.035613</td>\n",
              "      <td>0.054131</td>\n",
              "      <td>0.03767</td>\n",
              "      <td>0.035613</td>\n",
              "      <td>0.035613</td>\n",
              "      <td>0.035613</td>\n",
              "      <td>0.03767</td>\n",
              "      <td>0.035613</td>\n",
              "      <td>0.035613</td>\n",
              "      <td>0.035613</td>\n",
              "      <td>0.054131</td>\n",
              "      <td>0.035613</td>\n",
              "      <td>0.035613</td>\n",
              "      <td>0.035613</td>\n",
              "      <td>0.035613</td>\n",
              "      <td>0.052073</td>\n",
              "      <td>0.035613</td>\n",
              "      <td>0.035613</td>\n",
              "      <td>0.035613</td>\n",
              "      <td>0.052073</td>\n",
              "      <td>0.035613</td>\n",
              "      <td>0.035613</td>\n",
              "      <td>0.035613</td>\n",
              "      <td>0</td>\n",
              "      <td>0</td>\n",
              "      <td>0</td>\n",
              "      <td>0</td>\n",
              "      <td>0</td>\n",
              "      <td>0</td>\n",
              "      <td>0</td>\n",
              "      <td>0</td>\n",
              "      <td>0</td>\n",
              "      <td>0</td>\n",
              "      <td>0</td>\n",
              "      <td>0</td>\n",
              "      <td>0</td>\n",
              "      <td>0</td>\n",
              "      <td>0</td>\n",
              "      <td>0</td>\n",
              "      <td>0</td>\n",
              "      <td>0</td>\n",
              "      <td>0</td>\n",
              "      <td>0</td>\n",
              "      <td>0</td>\n",
              "      <td>0</td>\n",
              "      <td>0</td>\n",
              "      <td>0</td>\n",
              "      <td>0</td>\n",
              "      <td>hey maxwell meets premature end near future wo...</td>\n",
              "    </tr>\n",
              "  </tbody>\n",
              "</table>\n",
              "</div>"
            ],
            "text/plain": [
              "   Unnamed: 0  ...                                     Processed_Text\n",
              "0           0  ...  new blog post true connection love connection ...\n",
              "1           0  ...                             oh reunion heyyy alone\n",
              "2           0  ...  accurate mls new home listing thanks thank tan...\n",
              "3           0  ...  repost goldenrulewill via lovewillam repost at...\n",
              "4           0  ...  hey maxwell meets premature end near future wo...\n",
              "\n",
              "[5 rows x 67 columns]"
            ]
          },
          "metadata": {
            "tags": []
          },
          "execution_count": 63
        }
      ]
    },
    {
      "cell_type": "code",
      "metadata": {
        "id": "cSVlWdvu73dq",
        "colab_type": "code",
        "colab": {}
      },
      "source": [
        "#read_data\n",
        "Pred_data['Mental_condition'] = Pred_data['Processed_Text'].apply(predict)"
      ],
      "execution_count": 64,
      "outputs": []
    },
    {
      "cell_type": "code",
      "metadata": {
        "id": "TfgSTOmT8kD5",
        "colab_type": "code",
        "colab": {
          "base_uri": "https://localhost:8080/",
          "height": 683
        },
        "outputId": "f5640958-c091-490a-f675-1847adea8a30"
      },
      "source": [
        "Pred_data.head()"
      ],
      "execution_count": 65,
      "outputs": [
        {
          "output_type": "execute_result",
          "data": {
            "text/html": [
              "<div>\n",
              "<style scoped>\n",
              "    .dataframe tbody tr th:only-of-type {\n",
              "        vertical-align: middle;\n",
              "    }\n",
              "\n",
              "    .dataframe tbody tr th {\n",
              "        vertical-align: top;\n",
              "    }\n",
              "\n",
              "    .dataframe thead th {\n",
              "        text-align: right;\n",
              "    }\n",
              "</style>\n",
              "<table border=\"1\" class=\"dataframe\">\n",
              "  <thead>\n",
              "    <tr style=\"text-align: right;\">\n",
              "      <th></th>\n",
              "      <th>Unnamed: 0</th>\n",
              "      <th>User</th>\n",
              "      <th>Text</th>\n",
              "      <th>Retweets</th>\n",
              "      <th>Favorites</th>\n",
              "      <th>HashTags</th>\n",
              "      <th>City</th>\n",
              "      <th>date</th>\n",
              "      <th>time</th>\n",
              "      <th>month_year</th>\n",
              "      <th>text_nlp</th>\n",
              "      <th>text_len</th>\n",
              "      <th>word_count</th>\n",
              "      <th>polarity</th>\n",
              "      <th>sentiment</th>\n",
              "      <th>people, life, change, die, virus, save, kill, normal, sick, action</th>\n",
              "      <th>thing, make, end, talk, person, quarantine, grow, win, reason, light</th>\n",
              "      <th>face, social, make, wear, weekend, mask, practice, distancing, distance, park</th>\n",
              "      <th>mind, bring, moment, create, full, thought, dream, power, experience, find</th>\n",
              "      <th>time, year, follow, post, hour, step, turn, ago, spend, provide</th>\n",
              "      <th>good, morning, fitness, daily, hit, yoga, member, early, live, wake</th>\n",
              "      <th>show, long, play, read, lol, line, picture, buy, fall, store</th>\n",
              "      <th>family, friend, positive, death, case, test, rise, state, number, black</th>\n",
              "      <th>check, night, watch, video, good, message, yesterday, full, late, youtube</th>\n",
              "      <th>work, give, hard, smile, happen, challenge, man, pay, beat, tough</th>\n",
              "      <th>day, happy, start, enjoy, beautiful, birthday, celebrate, week, movement, begin</th>\n",
              "      <th>training, ready, gym, find, train, online, woman, personal, top, fun</th>\n",
              "      <th>friend, listen, big, hand, game, lose, head, repost, shoot, awareness</th>\n",
              "      <th>world, place, put, remember, hope, lot, story, hear, forget, true</th>\n",
              "      <th>live, tonight, pm, join, meditation, share, music, word, favorite, tune</th>\n",
              "      <th>essential, support, care, worker, health, continue, fight, community, risk, business</th>\n",
              "      <th>order, free, call, open, food, sign, eye, studio, delivery, pick</th>\n",
              "      <th>love, great, guy, amazing, team, send, heart, job, nice, super</th>\n",
              "      <th>today, wait, book, link, bio, miss, session, tomorrow, visit, website</th>\n",
              "      <th>run, move, walk, eat, bad, easy, forward, mile, pretty, baby</th>\n",
              "      <th>feel, back, leave, important, double, energy, finally, tap, client, box</th>\n",
              "      <th>week, class, month, kid, virtual, join, dance, tomorrow, teach, photo</th>\n",
              "      <th>stop, learn, start, real, fear, part, close, break, school, share</th>\n",
              "      <th>set, exercise, minute, push, side, rest, leg, squat, schedule, info</th>\n",
              "      <th>stay, home, safe, healthy, fit, season, active, update, pray, inside</th>\n",
              "      <th>workout, body, strong, goal, high, focus, build, strength, add, level</th>\n",
              "      <th>0</th>\n",
              "      <th>1</th>\n",
              "      <th>2</th>\n",
              "      <th>3</th>\n",
              "      <th>4</th>\n",
              "      <th>5</th>\n",
              "      <th>6</th>\n",
              "      <th>7</th>\n",
              "      <th>8</th>\n",
              "      <th>9</th>\n",
              "      <th>10</th>\n",
              "      <th>11</th>\n",
              "      <th>12</th>\n",
              "      <th>13</th>\n",
              "      <th>14</th>\n",
              "      <th>15</th>\n",
              "      <th>16</th>\n",
              "      <th>17</th>\n",
              "      <th>18</th>\n",
              "      <th>19</th>\n",
              "      <th>20</th>\n",
              "      <th>21</th>\n",
              "      <th>22</th>\n",
              "      <th>23</th>\n",
              "      <th>24</th>\n",
              "      <th>Processed_Text</th>\n",
              "      <th>Mental_condition</th>\n",
              "    </tr>\n",
              "  </thead>\n",
              "  <tbody>\n",
              "    <tr>\n",
              "      <th>0</th>\n",
              "      <td>0</td>\n",
              "      <td>michaelbarata</td>\n",
              "      <td>New Blog Post: True Connection #love #connecti...</td>\n",
              "      <td>0</td>\n",
              "      <td>0</td>\n",
              "      <td>#love #connection #fear #lawofattraction</td>\n",
              "      <td>NY</td>\n",
              "      <td>2020-07-11</td>\n",
              "      <td>16:29:35</td>\n",
              "      <td>2020-07</td>\n",
              "      <td>new blog post true connection</td>\n",
              "      <td>34</td>\n",
              "      <td>5</td>\n",
              "      <td>0.243182</td>\n",
              "      <td>positive</td>\n",
              "      <td>0.035613</td>\n",
              "      <td>0.035613</td>\n",
              "      <td>0.035613</td>\n",
              "      <td>0.035613</td>\n",
              "      <td>0.054131</td>\n",
              "      <td>0.03767</td>\n",
              "      <td>0.035613</td>\n",
              "      <td>0.035613</td>\n",
              "      <td>0.035613</td>\n",
              "      <td>0.03767</td>\n",
              "      <td>0.035613</td>\n",
              "      <td>0.035613</td>\n",
              "      <td>0.035613</td>\n",
              "      <td>0.054131</td>\n",
              "      <td>0.035613</td>\n",
              "      <td>0.035613</td>\n",
              "      <td>0.035613</td>\n",
              "      <td>0.035613</td>\n",
              "      <td>0.052073</td>\n",
              "      <td>0.035613</td>\n",
              "      <td>0.035613</td>\n",
              "      <td>0.035613</td>\n",
              "      <td>0.052073</td>\n",
              "      <td>0.035613</td>\n",
              "      <td>0.035613</td>\n",
              "      <td>0.035613</td>\n",
              "      <td>0</td>\n",
              "      <td>0</td>\n",
              "      <td>0</td>\n",
              "      <td>0</td>\n",
              "      <td>0</td>\n",
              "      <td>0</td>\n",
              "      <td>0</td>\n",
              "      <td>0</td>\n",
              "      <td>0</td>\n",
              "      <td>0</td>\n",
              "      <td>0</td>\n",
              "      <td>0</td>\n",
              "      <td>0</td>\n",
              "      <td>0</td>\n",
              "      <td>0</td>\n",
              "      <td>0</td>\n",
              "      <td>0</td>\n",
              "      <td>0</td>\n",
              "      <td>0</td>\n",
              "      <td>0</td>\n",
              "      <td>0</td>\n",
              "      <td>0</td>\n",
              "      <td>0</td>\n",
              "      <td>0</td>\n",
              "      <td>0</td>\n",
              "      <td>new blog post true connection love connection ...</td>\n",
              "      <td>{'label': 'NOT_SUICIDAL', 'score': 0.9583886, ...</td>\n",
              "    </tr>\n",
              "    <tr>\n",
              "      <th>1</th>\n",
              "      <td>0</td>\n",
              "      <td>_TraceDollFace_</td>\n",
              "      <td>Oh a reunion heyyy #Alone</td>\n",
              "      <td>0</td>\n",
              "      <td>0</td>\n",
              "      <td>#Alone</td>\n",
              "      <td>NY</td>\n",
              "      <td>2020-07-11</td>\n",
              "      <td>19:43:21</td>\n",
              "      <td>2020-07</td>\n",
              "      <td>oh reunion heyyy</td>\n",
              "      <td>19</td>\n",
              "      <td>4</td>\n",
              "      <td>0.000000</td>\n",
              "      <td>neutral</td>\n",
              "      <td>0.035613</td>\n",
              "      <td>0.035613</td>\n",
              "      <td>0.035613</td>\n",
              "      <td>0.035613</td>\n",
              "      <td>0.054131</td>\n",
              "      <td>0.03767</td>\n",
              "      <td>0.035613</td>\n",
              "      <td>0.035613</td>\n",
              "      <td>0.035613</td>\n",
              "      <td>0.03767</td>\n",
              "      <td>0.035613</td>\n",
              "      <td>0.035613</td>\n",
              "      <td>0.035613</td>\n",
              "      <td>0.054131</td>\n",
              "      <td>0.035613</td>\n",
              "      <td>0.035613</td>\n",
              "      <td>0.035613</td>\n",
              "      <td>0.035613</td>\n",
              "      <td>0.052073</td>\n",
              "      <td>0.035613</td>\n",
              "      <td>0.035613</td>\n",
              "      <td>0.035613</td>\n",
              "      <td>0.052073</td>\n",
              "      <td>0.035613</td>\n",
              "      <td>0.035613</td>\n",
              "      <td>0.035613</td>\n",
              "      <td>0</td>\n",
              "      <td>0</td>\n",
              "      <td>0</td>\n",
              "      <td>0</td>\n",
              "      <td>0</td>\n",
              "      <td>0</td>\n",
              "      <td>0</td>\n",
              "      <td>0</td>\n",
              "      <td>0</td>\n",
              "      <td>0</td>\n",
              "      <td>0</td>\n",
              "      <td>0</td>\n",
              "      <td>0</td>\n",
              "      <td>0</td>\n",
              "      <td>0</td>\n",
              "      <td>0</td>\n",
              "      <td>0</td>\n",
              "      <td>0</td>\n",
              "      <td>0</td>\n",
              "      <td>0</td>\n",
              "      <td>0</td>\n",
              "      <td>0</td>\n",
              "      <td>0</td>\n",
              "      <td>0</td>\n",
              "      <td>0</td>\n",
              "      <td>oh reunion heyyy alone</td>\n",
              "      <td>{'label': 'NOT_SUICIDAL', 'score': 0.9998105, ...</td>\n",
              "    </tr>\n",
              "    <tr>\n",
              "      <th>2</th>\n",
              "      <td>0</td>\n",
              "      <td>sackec</td>\n",
              "      <td>Couldn’t be more accurate! The MLS will now ha...</td>\n",
              "      <td>0</td>\n",
              "      <td>0</td>\n",
              "      <td>#getoutofnyasfastasyoucan #sadness</td>\n",
              "      <td>NY</td>\n",
              "      <td>2020-07-01</td>\n",
              "      <td>12:42:16</td>\n",
              "      <td>2020-07</td>\n",
              "      <td>couldn t accurate mls new home listing thanks ...</td>\n",
              "      <td>139</td>\n",
              "      <td>24</td>\n",
              "      <td>0.245455</td>\n",
              "      <td>positive</td>\n",
              "      <td>0.035613</td>\n",
              "      <td>0.035613</td>\n",
              "      <td>0.035613</td>\n",
              "      <td>0.035613</td>\n",
              "      <td>0.054131</td>\n",
              "      <td>0.03767</td>\n",
              "      <td>0.035613</td>\n",
              "      <td>0.035613</td>\n",
              "      <td>0.035613</td>\n",
              "      <td>0.03767</td>\n",
              "      <td>0.035613</td>\n",
              "      <td>0.035613</td>\n",
              "      <td>0.035613</td>\n",
              "      <td>0.054131</td>\n",
              "      <td>0.035613</td>\n",
              "      <td>0.035613</td>\n",
              "      <td>0.035613</td>\n",
              "      <td>0.035613</td>\n",
              "      <td>0.052073</td>\n",
              "      <td>0.035613</td>\n",
              "      <td>0.035613</td>\n",
              "      <td>0.035613</td>\n",
              "      <td>0.052073</td>\n",
              "      <td>0.035613</td>\n",
              "      <td>0.035613</td>\n",
              "      <td>0.035613</td>\n",
              "      <td>0</td>\n",
              "      <td>0</td>\n",
              "      <td>0</td>\n",
              "      <td>0</td>\n",
              "      <td>0</td>\n",
              "      <td>0</td>\n",
              "      <td>0</td>\n",
              "      <td>0</td>\n",
              "      <td>0</td>\n",
              "      <td>0</td>\n",
              "      <td>0</td>\n",
              "      <td>0</td>\n",
              "      <td>0</td>\n",
              "      <td>0</td>\n",
              "      <td>0</td>\n",
              "      <td>0</td>\n",
              "      <td>0</td>\n",
              "      <td>0</td>\n",
              "      <td>0</td>\n",
              "      <td>0</td>\n",
              "      <td>0</td>\n",
              "      <td>0</td>\n",
              "      <td>0</td>\n",
              "      <td>0</td>\n",
              "      <td>0</td>\n",
              "      <td>accurate mls new home listing thanks thank tan...</td>\n",
              "      <td>{'label': 'NOT_SUICIDAL', 'score': 0.9977464, ...</td>\n",
              "    </tr>\n",
              "    <tr>\n",
              "      <th>3</th>\n",
              "      <td>0</td>\n",
              "      <td>MamaAlboranista</td>\n",
              "      <td>#Repost goldenrulewill ・・・ via @lovewillam_ #R...</td>\n",
              "      <td>0</td>\n",
              "      <td>2</td>\n",
              "      <td>#Repost #Repost #suicideawarness #suicide #dep...</td>\n",
              "      <td>NY</td>\n",
              "      <td>2020-07-10</td>\n",
              "      <td>17:56:18</td>\n",
              "      <td>2020-07</td>\n",
              "      <td>goldenrulewill via lovewillam_ atrainlive make...</td>\n",
              "      <td>95</td>\n",
              "      <td>12</td>\n",
              "      <td>0.136364</td>\n",
              "      <td>positive</td>\n",
              "      <td>0.035613</td>\n",
              "      <td>0.035613</td>\n",
              "      <td>0.035613</td>\n",
              "      <td>0.035613</td>\n",
              "      <td>0.054131</td>\n",
              "      <td>0.03767</td>\n",
              "      <td>0.035613</td>\n",
              "      <td>0.035613</td>\n",
              "      <td>0.035613</td>\n",
              "      <td>0.03767</td>\n",
              "      <td>0.035613</td>\n",
              "      <td>0.035613</td>\n",
              "      <td>0.035613</td>\n",
              "      <td>0.054131</td>\n",
              "      <td>0.035613</td>\n",
              "      <td>0.035613</td>\n",
              "      <td>0.035613</td>\n",
              "      <td>0.035613</td>\n",
              "      <td>0.052073</td>\n",
              "      <td>0.035613</td>\n",
              "      <td>0.035613</td>\n",
              "      <td>0.035613</td>\n",
              "      <td>0.052073</td>\n",
              "      <td>0.035613</td>\n",
              "      <td>0.035613</td>\n",
              "      <td>0.035613</td>\n",
              "      <td>0</td>\n",
              "      <td>0</td>\n",
              "      <td>0</td>\n",
              "      <td>0</td>\n",
              "      <td>0</td>\n",
              "      <td>0</td>\n",
              "      <td>0</td>\n",
              "      <td>0</td>\n",
              "      <td>0</td>\n",
              "      <td>0</td>\n",
              "      <td>0</td>\n",
              "      <td>0</td>\n",
              "      <td>0</td>\n",
              "      <td>0</td>\n",
              "      <td>0</td>\n",
              "      <td>0</td>\n",
              "      <td>0</td>\n",
              "      <td>0</td>\n",
              "      <td>0</td>\n",
              "      <td>0</td>\n",
              "      <td>0</td>\n",
              "      <td>0</td>\n",
              "      <td>0</td>\n",
              "      <td>0</td>\n",
              "      <td>0</td>\n",
              "      <td>repost goldenrulewill via lovewillam repost at...</td>\n",
              "      <td>{'label': 'EARLY_SIGN', 'score': 0.55447227, '...</td>\n",
              "    </tr>\n",
              "    <tr>\n",
              "      <th>4</th>\n",
              "      <td>0</td>\n",
              "      <td>Moosekj25</td>\n",
              "      <td>Hey, so if Maxwell meets a premature end here ...</td>\n",
              "      <td>0</td>\n",
              "      <td>0</td>\n",
              "      <td>#DeepStateCabal #PANIC</td>\n",
              "      <td>NY</td>\n",
              "      <td>2020-07-10</td>\n",
              "      <td>13:34:46</td>\n",
              "      <td>2020-07</td>\n",
              "      <td>hey maxwell meets premature end near future on...</td>\n",
              "      <td>230</td>\n",
              "      <td>44</td>\n",
              "      <td>0.033333</td>\n",
              "      <td>positive</td>\n",
              "      <td>0.035613</td>\n",
              "      <td>0.035613</td>\n",
              "      <td>0.035613</td>\n",
              "      <td>0.035613</td>\n",
              "      <td>0.054131</td>\n",
              "      <td>0.03767</td>\n",
              "      <td>0.035613</td>\n",
              "      <td>0.035613</td>\n",
              "      <td>0.035613</td>\n",
              "      <td>0.03767</td>\n",
              "      <td>0.035613</td>\n",
              "      <td>0.035613</td>\n",
              "      <td>0.035613</td>\n",
              "      <td>0.054131</td>\n",
              "      <td>0.035613</td>\n",
              "      <td>0.035613</td>\n",
              "      <td>0.035613</td>\n",
              "      <td>0.035613</td>\n",
              "      <td>0.052073</td>\n",
              "      <td>0.035613</td>\n",
              "      <td>0.035613</td>\n",
              "      <td>0.035613</td>\n",
              "      <td>0.052073</td>\n",
              "      <td>0.035613</td>\n",
              "      <td>0.035613</td>\n",
              "      <td>0.035613</td>\n",
              "      <td>0</td>\n",
              "      <td>0</td>\n",
              "      <td>0</td>\n",
              "      <td>0</td>\n",
              "      <td>0</td>\n",
              "      <td>0</td>\n",
              "      <td>0</td>\n",
              "      <td>0</td>\n",
              "      <td>0</td>\n",
              "      <td>0</td>\n",
              "      <td>0</td>\n",
              "      <td>0</td>\n",
              "      <td>0</td>\n",
              "      <td>0</td>\n",
              "      <td>0</td>\n",
              "      <td>0</td>\n",
              "      <td>0</td>\n",
              "      <td>0</td>\n",
              "      <td>0</td>\n",
              "      <td>0</td>\n",
              "      <td>0</td>\n",
              "      <td>0</td>\n",
              "      <td>0</td>\n",
              "      <td>0</td>\n",
              "      <td>0</td>\n",
              "      <td>hey maxwell meets premature end near future wo...</td>\n",
              "      <td>{'label': 'EARLY_SIGN', 'score': 0.75816613, '...</td>\n",
              "    </tr>\n",
              "  </tbody>\n",
              "</table>\n",
              "</div>"
            ],
            "text/plain": [
              "   Unnamed: 0  ...                                   Mental_condition\n",
              "0           0  ...  {'label': 'NOT_SUICIDAL', 'score': 0.9583886, ...\n",
              "1           0  ...  {'label': 'NOT_SUICIDAL', 'score': 0.9998105, ...\n",
              "2           0  ...  {'label': 'NOT_SUICIDAL', 'score': 0.9977464, ...\n",
              "3           0  ...  {'label': 'EARLY_SIGN', 'score': 0.55447227, '...\n",
              "4           0  ...  {'label': 'EARLY_SIGN', 'score': 0.75816613, '...\n",
              "\n",
              "[5 rows x 68 columns]"
            ]
          },
          "metadata": {
            "tags": []
          },
          "execution_count": 65
        }
      ]
    },
    {
      "cell_type": "code",
      "metadata": {
        "id": "LjMAorBm-rXv",
        "colab_type": "code",
        "colab": {}
      },
      "source": [
        "Pred_data.to_csv(\"Dashboard_Model_result.csv\")"
      ],
      "execution_count": 66,
      "outputs": []
    }
  ]
}