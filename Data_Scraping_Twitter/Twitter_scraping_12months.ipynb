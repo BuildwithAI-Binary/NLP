{
 "cells": [
  {
   "cell_type": "code",
   "execution_count": 2,
   "metadata": {},
   "outputs": [],
   "source": [
    "import pandas as pd\n",
    "import numpy as np\n",
    "import re\n",
    "from pprint import pprint\n",
    "from datetime import datetime\n",
    "\n",
    "#scraping\n",
    "import GetOldTweets3 as got\n",
    "import time\n",
    "\n",
    "#plotting\n",
    "import matplotlib.pyplot as plt\n",
    "import seaborn as sns\n",
    "%matplotlib inline\n",
    "def get_tweets(text_query, start_date, end_date, lang, location, within):\n",
    "   \n",
    "    # specifying tweet search criteria \n",
    "    tweetCriteria = got.manager.TweetCriteria().setQuerySearch(text_query)\\\n",
    "                          .setSince(start_date)\\\n",
    "                          .setUntil(end_date)\\\n",
    "                          .setLang(lang)\\\n",
    "                          .setNear(location)\\\n",
    "                          .setWithin(within)\\\n",
    "                          .setMaxTweets(1000)#set max tweets no.of tweets u may retrieve\n",
    "    # scraping tweets based on criteria\n",
    "    tweet = got.manager.TweetManager.getTweets(tweetCriteria)\n",
    "    \n",
    "    # creating list of tweets with the tweet attributes \n",
    "    # specified in the list comprehension\n",
    "    text_tweets = [[tw.date,\n",
    "                tw.username,\n",
    "                tw.text,\n",
    "                tw.retweets,\n",
    "                tw.favorites,\n",
    "                tw.hashtags,\n",
    "                tw.permalink] for tw in tweet]\n",
    "    \n",
    "    # creating dataframe, assigning column names to list of\n",
    "    # tweets corresponding to tweet attributes\n",
    "    tw_df = pd.DataFrame(text_tweets, \n",
    "                         columns = ['createdat','Username', 'Text', 'Retweets', 'Favorites', 'HashTags','source'])\n",
    "    \n",
    "    return tw_df\n"
   ]
  },
  {
   "cell_type": "code",
   "execution_count": 3,
   "metadata": {},
   "outputs": [],
   "source": [
    "text_queries = ['hopeless','depression','phobia','anxiety','stress','suicide','shame','grief','ocd','fear','insominia','ptsd','anorexia','wfh ,suicideawarness','suicideprevention','suicidal'] \n",
    "start_date = '2019-07-01'\n",
    "end_date = '2020-07-20'\n",
    "lang = 'en'\n",
    "within = '150mi'\n",
    "maxtweet = 1000\n",
    "#specify cities\n",
    "citys = ['New York City, New York','Boston, Massachusetts','Chicago, Illinois','Detroit, Michigan','Los Angeles, California','Houston, Texas','Newark, New Jersey','Miami, Florida','Philadelphia, Pennsylvania','New Orleans, Louisiana']"
   ]
  },
  {
   "cell_type": "code",
   "execution_count": 4,
   "metadata": {},
   "outputs": [],
   "source": [
    "import time\n",
    "\n",
    "c = 0\n",
    "for text_query in text_queries:\n",
    "    c += 1\n",
    "    cities = []\n",
    "    for city in citys:\n",
    "        location = city\n",
    "        cities.append(city)\n",
    "        df = get_tweets(text_query, start_date, end_date, lang, location, within)\n",
    "        df.to_csv(city + '.csv', index = False)\n",
    "        time.sleep(150)#wait for escaping twitter rate limit\n",
    "    city_column = ['NY', 'BOSTON', 'CHI', 'DETROIT', 'LA', 'HOUSTON', 'NEWARK', 'MIA', 'PHIL', 'NEW ORLEANS']\n",
    "    cities_df = pd.DataFrame()\n",
    "    time.sleep(10)\n",
    "    for i in range(len(city_column)):\n",
    "        df = pd.read_csv(cities[i] + '.csv')\n",
    "        df['City'] = city_column[i]\n",
    "        cities_df = pd.concat([dep_anx, df], axis = 0)\n",
    "    new = 'new' + str(c) + '.csv'\n",
    "    cities_df.to_csv(new, index = False)\n",
    "final_df = pd.DataFrame()\n",
    "for i in range(len(text_queries)):\n",
    "    st = 'new' + str(i+1) + '.csv'\n",
    "    df = pd.read_csv(st)\n",
    "    df['keyword'] = text_queries[i]\n",
    "    final_df = pd.concat([final_df,df],axis=0)\n",
    "txt = '_'.join(text_queries)+ '.csv'\n",
    "final_df.to_csv(txt)"
   ]
  },
  {
   "cell_type": "code",
   "execution_count": 5,
   "metadata": {},
   "outputs": [
    {
     "data": {
      "text/html": [
       "<div>\n",
       "<style scoped>\n",
       "    .dataframe tbody tr th:only-of-type {\n",
       "        vertical-align: middle;\n",
       "    }\n",
       "\n",
       "    .dataframe tbody tr th {\n",
       "        vertical-align: top;\n",
       "    }\n",
       "\n",
       "    .dataframe thead th {\n",
       "        text-align: right;\n",
       "    }\n",
       "</style>\n",
       "<table border=\"1\" class=\"dataframe\">\n",
       "  <thead>\n",
       "    <tr style=\"text-align: right;\">\n",
       "      <th></th>\n",
       "      <th>createdat</th>\n",
       "      <th>Username</th>\n",
       "      <th>Text</th>\n",
       "      <th>Retweets</th>\n",
       "      <th>Favorites</th>\n",
       "      <th>HashTags</th>\n",
       "      <th>source</th>\n",
       "      <th>City</th>\n",
       "      <th>keyword</th>\n",
       "    </tr>\n",
       "  </thead>\n",
       "  <tbody>\n",
       "    <tr>\n",
       "      <th>0</th>\n",
       "      <td>2020-07-19 23:59:13+00:00</td>\n",
       "      <td>hamsinthewest</td>\n",
       "      <td>Dibs on Fresh Baby Witches as a band name.</td>\n",
       "      <td>0</td>\n",
       "      <td>1</td>\n",
       "      <td>NaN</td>\n",
       "      <td>https://twitter.com/hamsinthewest/status/12850...</td>\n",
       "      <td>NY</td>\n",
       "      <td>hopeless</td>\n",
       "    </tr>\n",
       "    <tr>\n",
       "      <th>1</th>\n",
       "      <td>2020-07-19 23:52:47+00:00</td>\n",
       "      <td>RobertTrombett4</td>\n",
       "      <td>Thanks!</td>\n",
       "      <td>0</td>\n",
       "      <td>0</td>\n",
       "      <td>NaN</td>\n",
       "      <td>https://twitter.com/RobertTrombett4/status/128...</td>\n",
       "      <td>NY</td>\n",
       "      <td>hopeless</td>\n",
       "    </tr>\n",
       "    <tr>\n",
       "      <th>2</th>\n",
       "      <td>2020-07-19 23:52:20+00:00</td>\n",
       "      <td>RobertTrombett4</td>\n",
       "      <td>He always sounds exactly like somebody who kno...</td>\n",
       "      <td>0</td>\n",
       "      <td>0</td>\n",
       "      <td>NaN</td>\n",
       "      <td>https://twitter.com/RobertTrombett4/status/128...</td>\n",
       "      <td>NY</td>\n",
       "      <td>hopeless</td>\n",
       "    </tr>\n",
       "    <tr>\n",
       "      <th>3</th>\n",
       "      <td>2020-07-19 23:51:02+00:00</td>\n",
       "      <td>MelBoomBos</td>\n",
       "      <td>We do. There's lots of hopeless people like me...</td>\n",
       "      <td>0</td>\n",
       "      <td>1</td>\n",
       "      <td>NaN</td>\n",
       "      <td>https://twitter.com/MelBoomBos/status/12849992...</td>\n",
       "      <td>NY</td>\n",
       "      <td>hopeless</td>\n",
       "    </tr>\n",
       "    <tr>\n",
       "      <th>4</th>\n",
       "      <td>2020-07-19 23:49:50+00:00</td>\n",
       "      <td>RobertTrombett4</td>\n",
       "      <td>Like, probably, Mr. Royal Rose up there?</td>\n",
       "      <td>0</td>\n",
       "      <td>0</td>\n",
       "      <td>NaN</td>\n",
       "      <td>https://twitter.com/RobertTrombett4/status/128...</td>\n",
       "      <td>NY</td>\n",
       "      <td>hopeless</td>\n",
       "    </tr>\n",
       "  </tbody>\n",
       "</table>\n",
       "</div>"
      ],
      "text/plain": [
       "                   createdat         Username  \\\n",
       "0  2020-07-19 23:59:13+00:00    hamsinthewest   \n",
       "1  2020-07-19 23:52:47+00:00  RobertTrombett4   \n",
       "2  2020-07-19 23:52:20+00:00  RobertTrombett4   \n",
       "3  2020-07-19 23:51:02+00:00       MelBoomBos   \n",
       "4  2020-07-19 23:49:50+00:00  RobertTrombett4   \n",
       "\n",
       "                                                Text Retweets Favorites  \\\n",
       "0         Dibs on Fresh Baby Witches as a band name.        0         1   \n",
       "1                                           Thanks!         0         0   \n",
       "2  He always sounds exactly like somebody who kno...        0         0   \n",
       "3  We do. There's lots of hopeless people like me...        0         1   \n",
       "4           Like, probably, Mr. Royal Rose up there?        0         0   \n",
       "\n",
       "  HashTags                                             source City   keyword  \n",
       "0      NaN  https://twitter.com/hamsinthewest/status/12850...   NY  hopeless  \n",
       "1      NaN  https://twitter.com/RobertTrombett4/status/128...   NY  hopeless  \n",
       "2      NaN  https://twitter.com/RobertTrombett4/status/128...   NY  hopeless  \n",
       "3      NaN  https://twitter.com/MelBoomBos/status/12849992...   NY  hopeless  \n",
       "4      NaN  https://twitter.com/RobertTrombett4/status/128...   NY  hopeless  "
      ]
     },
     "execution_count": 5,
     "metadata": {},
     "output_type": "execute_result"
    }
   ],
   "source": [
    "final_df.head()"
   ]
  },
  {
   "cell_type": "code",
   "execution_count": 6,
   "metadata": {},
   "outputs": [
    {
     "name": "stdout",
     "output_type": "stream",
     "text": [
      "<class 'pandas.core.frame.DataFrame'>\n",
      "Int64Index: 91604 entries, 0 to 3774\n",
      "Data columns (total 9 columns):\n",
      " #   Column     Non-Null Count  Dtype \n",
      "---  ------     --------------  ----- \n",
      " 0   createdat  91604 non-null  object\n",
      " 1   Username   91604 non-null  object\n",
      " 2   Text       91604 non-null  object\n",
      " 3   Retweets   91604 non-null  object\n",
      " 4   Favorites  91604 non-null  object\n",
      " 5   HashTags   11700 non-null  object\n",
      " 6   source     91604 non-null  object\n",
      " 7   City       91604 non-null  object\n",
      " 8   keyword    91604 non-null  object\n",
      "dtypes: object(9)\n",
      "memory usage: 7.0+ MB\n"
     ]
    }
   ],
   "source": [
    "final_df.info()"
   ]
  },
  {
   "cell_type": "code",
   "execution_count": 7,
   "metadata": {},
   "outputs": [
    {
     "data": {
      "text/plain": [
       "anxiety              10000\n",
       "fear                 10000\n",
       "stress               10000\n",
       "depression            9703\n",
       "shame                 9558\n",
       "suicide               8871\n",
       "ptsd                  6836\n",
       "grief                 6455\n",
       "insominia             5406\n",
       "hopeless              4577\n",
       "suicidal              3775\n",
       "ocd                   2827\n",
       "suicideprevention     1734\n",
       "phobia                1465\n",
       "anorexia               397\n",
       "Name: keyword, dtype: int64"
      ]
     },
     "execution_count": 7,
     "metadata": {},
     "output_type": "execute_result"
    }
   ],
   "source": [
    "final_df['keyword'].value_counts()"
   ]
  },
  {
   "cell_type": "code",
   "execution_count": 9,
   "metadata": {},
   "outputs": [
    {
     "name": "stdout",
     "output_type": "stream",
     "text": [
      "shape: (91604, 9)\n",
      "number of tweets: 76257\n",
      "number of users: 47629\n",
      "range: 2019-07-01 00:33:37+00:00 , 2020-07-19 23:59:54+00:00\n",
      "dates: 76362\n"
     ]
    }
   ],
   "source": [
    "print('shape:', final_df.shape)\n",
    "print('number of tweets:', final_df['Text'].nunique())\n",
    "print('number of users:', final_df['Username'].nunique())\n",
    "\n",
    "print(\"range:\", final_df['createdat'].min(),\",\", final_df['createdat'].max())\n",
    "print(\"dates:\",final_df['createdat'].nunique())"
   ]
  },
  {
   "cell_type": "code",
   "execution_count": null,
   "metadata": {},
   "outputs": [],
   "source": []
  }
 ],
 "metadata": {
  "kernelspec": {
   "display_name": "Python 3",
   "language": "python",
   "name": "python3"
  },
  "language_info": {
   "codemirror_mode": {
    "name": "ipython",
    "version": 3
   },
   "file_extension": ".py",
   "mimetype": "text/x-python",
   "name": "python",
   "nbconvert_exporter": "python",
   "pygments_lexer": "ipython3",
   "version": "3.7.6"
  }
 },
 "nbformat": 4,
 "nbformat_minor": 4
}
